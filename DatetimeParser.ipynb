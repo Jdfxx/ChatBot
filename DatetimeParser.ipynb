{
 "cells": [
  {
   "metadata": {
    "ExecuteTime": {
     "end_time": "2025-03-27T11:43:29.727600Z",
     "start_time": "2025-03-27T11:43:29.067084Z"
    }
   },
   "cell_type": "code",
   "source": "pip show langchain",
   "id": "2ef26844c10a2214",
   "outputs": [
    {
     "name": "stdout",
     "output_type": "stream",
     "text": [
      "Name: langchain\n",
      "Version: 0.3.21\n",
      "Summary: Building applications with LLMs through composability\n",
      "Home-page: \n",
      "Author: \n",
      "Author-email: \n",
      "License: MIT\n",
      "Location: C:\\Dev\\anaconda\\envs\\langchain_env\\Lib\\site-packages\n",
      "Requires: langchain-core, langchain-text-splitters, langsmith, pydantic, PyYAML, requests, SQLAlchemy\n",
      "Required-by: langchain-community\n",
      "Note: you may need to restart the kernel to use updated packages.\n"
     ]
    }
   ],
   "execution_count": 10
  },
  {
   "metadata": {
    "collapsed": true,
    "ExecuteTime": {
     "end_time": "2025-03-27T11:43:29.797028Z",
     "start_time": "2025-03-27T11:43:29.794007Z"
    }
   },
   "cell_type": "code",
   "source": [
    "from langchain_openai.chat_models import ChatOpenAI\n",
    "from langchain_core.messages import HumanMessage\n",
    "from langchain.output_parsers import DatetimeOutputParser"
   ],
   "id": "initial_id",
   "outputs": [],
   "execution_count": 11
  },
  {
   "metadata": {
    "ExecuteTime": {
     "end_time": "2025-03-27T11:43:30.161053Z",
     "start_time": "2025-03-27T11:43:29.818450Z"
    }
   },
   "cell_type": "code",
   "source": [
    "chat = ChatOpenAI(\n",
    "                  seed=365,\n",
    "                  temperature = 0,\n",
    "                  max_tokens = 80)"
   ],
   "id": "c3d8a5845e498aa6",
   "outputs": [],
   "execution_count": 12
  },
  {
   "metadata": {
    "ExecuteTime": {
     "end_time": "2025-03-27T11:43:30.170223Z",
     "start_time": "2025-03-27T11:43:30.166223Z"
    }
   },
   "cell_type": "code",
   "source": [
    "message_h = HumanMessage(content = f'''When was the Danish poet Piet Hein born?\n",
    "{DatetimeOutputParser().get_format_instructions()}\n",
    "''')\n",
    "print(message_h.content)"
   ],
   "id": "37a6c61ce85c9932",
   "outputs": [
    {
     "name": "stdout",
     "output_type": "stream",
     "text": [
      "When was the Danish poet Piet Hein born?\n",
      "Write a datetime string that matches the following pattern: '%Y-%m-%dT%H:%M:%S.%fZ'.\n",
      "\n",
      "Examples: 0463-05-24T20:47:05.536987Z, 0818-06-21T19:15:03.255928Z, 0188-09-04T11:12:45.248481Z\n",
      "\n",
      "Return ONLY this string, no other words!\n",
      "\n"
     ]
    }
   ],
   "execution_count": 13
  },
  {
   "metadata": {
    "ExecuteTime": {
     "end_time": "2025-03-27T11:43:30.737681Z",
     "start_time": "2025-03-27T11:43:30.253321Z"
    }
   },
   "cell_type": "code",
   "source": [
    "response = chat.invoke([message_h])\n",
    "response"
   ],
   "id": "77feeea681bb2bba",
   "outputs": [
    {
     "data": {
      "text/plain": [
       "AIMessage(content='1905-12-16T00:00:00.000000Z', additional_kwargs={'refusal': None}, response_metadata={'token_usage': {'completion_tokens': 17, 'prompt_tokens': 106, 'total_tokens': 123, 'completion_tokens_details': {'accepted_prediction_tokens': 0, 'audio_tokens': 0, 'reasoning_tokens': 0, 'rejected_prediction_tokens': 0}, 'prompt_tokens_details': {'audio_tokens': 0, 'cached_tokens': 0}}, 'model_name': 'gpt-3.5-turbo-0125', 'system_fingerprint': None, 'id': 'chatcmpl-BFfvvyBcj3oHKfKSlrQNWMHbECVKe', 'finish_reason': 'stop', 'logprobs': None}, id='run-c3fc46e7-0e05-4a66-aced-9b20ad0578e9-0', usage_metadata={'input_tokens': 106, 'output_tokens': 17, 'total_tokens': 123, 'input_token_details': {'audio': 0, 'cache_read': 0}, 'output_token_details': {'audio': 0, 'reasoning': 0}})"
      ]
     },
     "execution_count": 14,
     "metadata": {},
     "output_type": "execute_result"
    }
   ],
   "execution_count": 14
  },
  {
   "metadata": {
    "ExecuteTime": {
     "end_time": "2025-03-27T11:43:30.818450Z",
     "start_time": "2025-03-27T11:43:30.814447Z"
    }
   },
   "cell_type": "code",
   "source": "str_output_parser = date_output_parser = DatetimeOutputParser()",
   "id": "972ad03df0caf2a",
   "outputs": [],
   "execution_count": 15
  },
  {
   "metadata": {
    "ExecuteTime": {
     "end_time": "2025-03-27T11:43:30.853668Z",
     "start_time": "2025-03-27T11:43:30.849179Z"
    }
   },
   "cell_type": "code",
   "source": [
    "response_parsed = date_output_parser.invoke(response)\n",
    "print(response_parsed)"
   ],
   "id": "5a5e43e949c2ab6a",
   "outputs": [
    {
     "name": "stdout",
     "output_type": "stream",
     "text": [
      "1905-12-16 00:00:00\n"
     ]
    }
   ],
   "execution_count": 16
  },
  {
   "metadata": {
    "ExecuteTime": {
     "end_time": "2025-03-27T11:43:30.878699Z",
     "start_time": "2025-03-27T11:43:30.875699Z"
    }
   },
   "cell_type": "code",
   "source": "print(date_output_parser.get_format_instructions())",
   "id": "48a558d4f1dba696",
   "outputs": [
    {
     "name": "stdout",
     "output_type": "stream",
     "text": [
      "Write a datetime string that matches the following pattern: '%Y-%m-%dT%H:%M:%S.%fZ'.\n",
      "\n",
      "Examples: 1739-05-07T09:47:36.469833Z, 1135-11-10T07:33:34.778107Z, 0350-08-09T11:40:26.871687Z\n",
      "\n",
      "Return ONLY this string, no other words!\n"
     ]
    }
   ],
   "execution_count": 17
  }
 ],
 "metadata": {
  "kernelspec": {
   "display_name": "Python [conda env:langchain_env]",
   "language": "python",
   "name": "conda-env-langchain_env-py"
  },
  "language_info": {
   "codemirror_mode": {
    "name": "ipython",
    "version": 2
   },
   "file_extension": ".py",
   "mimetype": "text/x-python",
   "name": "python",
   "nbconvert_exporter": "python",
   "pygments_lexer": "ipython2",
   "version": "2.7.6"
  }
 },
 "nbformat": 4,
 "nbformat_minor": 5
}
