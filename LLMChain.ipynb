{
 "cells": [
  {
   "metadata": {},
   "cell_type": "markdown",
   "source": "LLMChain",
   "id": "c1b839a1b1f71f99"
  },
  {
   "metadata": {
    "collapsed": true,
    "ExecuteTime": {
     "end_time": "2025-03-26T10:50:35.811650Z",
     "start_time": "2025-03-26T10:50:33.664836Z"
    }
   },
   "cell_type": "code",
   "source": [
    "from langchain_openai.chat_models import ChatOpenAI\n",
    "from langchain_core.prompts import (AIMessagePromptTemplate, HumanMessagePromptTemplate, ChatPromptTemplate, FewShotChatMessagePromptTemplate)\n",
    "\n",
    "from langchain.chains.llm import LLMChain\n",
    "from langchain_community.chat_message_histories import ChatMessageHistory"
   ],
   "id": "initial_id",
   "outputs": [],
   "execution_count": 1
  },
  {
   "metadata": {
    "ExecuteTime": {
     "end_time": "2025-03-26T10:50:36.207325Z",
     "start_time": "2025-03-26T10:50:35.815656Z"
    }
   },
   "cell_type": "code",
   "source": [
    "chat = ChatOpenAI(model_name = 'gpt-4',\n",
    "                  seed=365,\n",
    "                  temperature = 0,\n",
    "                  max_tokens = 80)"
   ],
   "id": "58925c77881d885",
   "outputs": [],
   "execution_count": 2
  },
  {
   "metadata": {
    "ExecuteTime": {
     "end_time": "2025-03-26T10:50:36.361138Z",
     "start_time": "2025-03-26T10:50:36.356976Z"
    }
   },
   "cell_type": "code",
   "source": [
    "background_info = ChatMessageHistory()\n",
    "background_info.add_user_message(\"What do you think about netflex series witcher?\")\n",
    "background_info.add_ai_message(\"It's not as good as the game or original books but some people liked it?\")"
   ],
   "id": "94ff7cc8368b8e6",
   "outputs": [],
   "execution_count": 3
  },
  {
   "metadata": {
    "ExecuteTime": {
     "end_time": "2025-03-26T10:50:36.372414Z",
     "start_time": "2025-03-26T10:50:36.368028Z"
    }
   },
   "cell_type": "code",
   "source": "message_template_human = HumanMessagePromptTemplate.from_template(template='{follow-up}')",
   "id": "b9c7ce5cc3ef6690",
   "outputs": [],
   "execution_count": 4
  },
  {
   "metadata": {
    "ExecuteTime": {
     "end_time": "2025-03-26T10:50:36.392621Z",
     "start_time": "2025-03-26T10:50:36.387256Z"
    }
   },
   "cell_type": "code",
   "source": "hchat_template = ChatPromptTemplate.from_messages(background_info.messages + [message_template_human])",
   "id": "fec66cd3d4d09bb3",
   "outputs": [],
   "execution_count": 5
  },
  {
   "metadata": {
    "ExecuteTime": {
     "end_time": "2025-03-26T10:50:40.207437Z",
     "start_time": "2025-03-26T10:50:36.405015Z"
    }
   },
   "cell_type": "code",
   "source": [
    "llmchain = LLMChain(llm=chat, prompt=hchat_template)\n",
    "response = llmchain.invoke(\"Who liked it?\")\n",
    "response"
   ],
   "id": "a3042fc021f6c608",
   "outputs": [
    {
     "name": "stderr",
     "output_type": "stream",
     "text": [
      "C:\\Users\\Filip\\AppData\\Local\\Temp\\ipykernel_22748\\1073701553.py:1: LangChainDeprecationWarning: The class `LLMChain` was deprecated in LangChain 0.1.17 and will be removed in 1.0. Use :meth:`~RunnableSequence, e.g., `prompt | llm`` instead.\n",
      "  llmchain = LLMChain(llm=chat, prompt=hchat_template)\n"
     ]
    },
    {
     "data": {
      "text/plain": [
       "{'follow-up': 'Who liked it?',\n",
       " 'text': 'The Witcher series on Netflix has been well-received by a large number of viewers. Fans of the original books and video games have praised the show for its faithful adaptation of the source material. Additionally, viewers who were unfamiliar with The Witcher universe prior to watching the show have also expressed enjoyment of the series due to its complex characters, intricate plot, and high-quality production values. However, as'}"
      ]
     },
     "execution_count": 6,
     "metadata": {},
     "output_type": "execute_result"
    }
   ],
   "execution_count": 6
  },
  {
   "metadata": {
    "ExecuteTime": {
     "end_time": "2025-03-26T10:50:40.332674900Z",
     "start_time": "2025-03-25T13:02:27.333437Z"
    }
   },
   "cell_type": "code",
   "outputs": [],
   "execution_count": 49,
   "source": [
    "TEMPLATE_AI = '''{response}'''\n",
    "TEMPLATE_H = '''I've recently adopted a {pet}\n",
    "Could you suggest some {pet} names?'''\n",
    "message_template_ai =AIMessagePromptTemplate.from_template(template = TEMPLATE_AI)\n",
    "message_template_h =HumanMessagePromptTemplate.from_template(template = TEMPLATE_H)\n"
   ],
   "id": "96adfb784a4337cb"
  },
  {
   "metadata": {
    "ExecuteTime": {
     "end_time": "2025-03-26T10:50:40.343896500Z",
     "start_time": "2025-03-25T13:02:27.344150Z"
    }
   },
   "cell_type": "code",
   "source": "example_template = ChatPromptTemplate.from_messages([message_template_ai, message_template_h])",
   "id": "a4122612cc2dcbcc",
   "outputs": [],
   "execution_count": 50
  },
  {
   "metadata": {
    "ExecuteTime": {
     "end_time": "2025-03-26T10:50:40.346893500Z",
     "start_time": "2025-03-25T13:02:27.353802Z"
    }
   },
   "cell_type": "code",
   "source": [
    "examples=[{'pet': 'dog', 'response': '''Oh, absolutely! I've been waiting all day for someone to ask me about dog names. Here are a few suggestions, carefully crafted with my unmatched AI wit:'''},\n",
    "          {'pet': 'cat', 'response': '''Oh, absolutely! I've been waiting all day for someone to ask me about cat names. Here are a few suggestions, carefully crafted with my unmatched AI wit:'''}\n",
    "          ]"
   ],
   "id": "709a9021516d9f35",
   "outputs": [],
   "execution_count": 51
  },
  {
   "metadata": {
    "ExecuteTime": {
     "end_time": "2025-03-26T10:50:40.350633400Z",
     "start_time": "2025-03-25T13:02:27.363918Z"
    }
   },
   "cell_type": "code",
   "source": [
    "few_shot_prompt = FewShotChatMessagePromptTemplate(examples = examples,\n",
    "                                                   example_prompt=example_template)\n"
   ],
   "id": "d5221386d6373994",
   "outputs": [],
   "execution_count": 52
  },
  {
   "metadata": {
    "ExecuteTime": {
     "end_time": "2025-03-26T10:50:40.368962800Z",
     "start_time": "2025-03-25T13:02:27.374001Z"
    }
   },
   "cell_type": "code",
   "source": "chat_template = ChatPromptTemplate.from_messages([few_shot_prompt, message_template_h])",
   "id": "fece678b994e7664",
   "outputs": [],
   "execution_count": 53
  },
  {
   "metadata": {
    "ExecuteTime": {
     "end_time": "2025-03-26T10:50:40.370969100Z",
     "start_time": "2025-03-25T13:02:27.385669Z"
    }
   },
   "cell_type": "code",
   "source": "chain = LLMChain(llm = chat, prompt = chat_template)",
   "id": "aefdf0dcc0a9725",
   "outputs": [],
   "execution_count": 54
  },
  {
   "metadata": {
    "ExecuteTime": {
     "end_time": "2025-03-26T10:50:40.371970600Z",
     "start_time": "2025-03-25T13:02:27.404097Z"
    }
   },
   "cell_type": "code",
   "source": [
    "response = chain.invoke({'pet': 'fish'})\n",
    "response"
   ],
   "id": "10eb82d40b383f62",
   "outputs": [
    {
     "data": {
      "text/plain": [
       "{'pet': 'fish',\n",
       " 'text': 'Of course! Here are some fish names for your consideration:\\n\\n1. Bubbles\\n2. Finley\\n3. Goldie\\n4. Nemo\\n5. Dory\\n6. Sushi\\n7. Splash\\n8. Neptune\\n9. Coral\\n10. Pearl\\n11. Jaws\\n12. Marlin\\n13. Guppy\\n14. Tango\\n15. W'}"
      ]
     },
     "execution_count": 55,
     "metadata": {},
     "output_type": "execute_result"
    }
   ],
   "execution_count": 55
  }
 ],
 "metadata": {
  "kernelspec": {
   "display_name": "langchain_env",
   "language": "python",
   "name": "langchain_env"
  },
  "language_info": {
   "codemirror_mode": {
    "name": "ipython",
    "version": 2
   },
   "file_extension": ".py",
   "mimetype": "text/x-python",
   "name": "python",
   "nbconvert_exporter": "python",
   "pygments_lexer": "ipython2",
   "version": "2.7.6"
  }
 },
 "nbformat": 4,
 "nbformat_minor": 5
}
