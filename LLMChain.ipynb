{
 "cells": [
  {
   "metadata": {},
   "cell_type": "markdown",
   "source": "LLMChain",
   "id": "c1b839a1b1f71f99"
  },
  {
   "metadata": {
    "collapsed": true,
    "ExecuteTime": {
     "end_time": "2025-03-25T13:02:26.906891Z",
     "start_time": "2025-03-25T13:02:26.896650Z"
    }
   },
   "cell_type": "code",
   "source": [
    "from langchain_openai.chat_models import ChatOpenAI\n",
    "from langchain_core.prompts import (AIMessagePromptTemplate, HumanMessagePromptTemplate, ChatPromptTemplate, FewShotChatMessagePromptTemplate)\n",
    "\n",
    "from langchain.chains.llm import LLMChain\n",
    "from langchain_community.chat_message_histories import ChatMessageHistory"
   ],
   "id": "initial_id",
   "outputs": [],
   "execution_count": 46
  },
  {
   "metadata": {
    "ExecuteTime": {
     "end_time": "2025-03-25T13:02:27.310591Z",
     "start_time": "2025-03-25T13:02:26.911895Z"
    }
   },
   "cell_type": "code",
   "source": [
    "chat = ChatOpenAI(model_name = 'gpt-4',\n",
    "                  seed=365,\n",
    "                  temperature = 0,\n",
    "                  max_tokens = 80)"
   ],
   "id": "58925c77881d885",
   "outputs": [],
   "execution_count": 47
  },
  {
   "metadata": {
    "ExecuteTime": {
     "end_time": "2025-03-25T13:06:09.734077Z",
     "start_time": "2025-03-25T13:06:09.731242Z"
    }
   },
   "cell_type": "code",
   "source": [
    "background_info = ChatMessageHistory()\n",
    "background_info.add_user_message(\"What do you think about netflex series witcher?\")\n",
    "background_info.add_ai_message(\"It's not as good as the game or original books but some people liked it?\")"
   ],
   "id": "94ff7cc8368b8e6",
   "outputs": [],
   "execution_count": 58
  },
  {
   "metadata": {
    "ExecuteTime": {
     "end_time": "2025-03-25T13:06:08.856417Z",
     "start_time": "2025-03-25T13:06:08.853313Z"
    }
   },
   "cell_type": "code",
   "source": "message_template_human = HumanMessagePromptTemplate.from_template(template='{follow-up}')",
   "id": "b9c7ce5cc3ef6690",
   "outputs": [],
   "execution_count": 57
  },
  {
   "metadata": {
    "ExecuteTime": {
     "end_time": "2025-03-25T13:07:32.284962Z",
     "start_time": "2025-03-25T13:07:32.280892Z"
    }
   },
   "cell_type": "code",
   "source": "hchat_template = ChatPromptTemplate.from_messages(background_info.messages + [message_template_human])",
   "id": "fec66cd3d4d09bb3",
   "outputs": [],
   "execution_count": 60
  },
  {
   "metadata": {
    "ExecuteTime": {
     "end_time": "2025-03-25T13:09:14.132548Z",
     "start_time": "2025-03-25T13:09:11.155051Z"
    }
   },
   "cell_type": "code",
   "source": [
    "llmchain = LLMChain(llm=chat, prompt=hchat_template)\n",
    "response = llmchain.invoke(\"Who liked it?\")\n",
    "response"
   ],
   "id": "a3042fc021f6c608",
   "outputs": [
    {
     "data": {
      "text/plain": [
       "{'follow-up': 'Who liked it?',\n",
       " 'text': \"The Witcher series on Netflix has been well-received by many viewers and fans of the original books and video games. It has a large fanbase who appreciate the complex characters, intricate plot, and high-quality production values. However, as an AI, I don't have personal opinions.\"}"
      ]
     },
     "execution_count": 62,
     "metadata": {},
     "output_type": "execute_result"
    }
   ],
   "execution_count": 62
  },
  {
   "metadata": {},
   "cell_type": "code",
   "outputs": [],
   "execution_count": null,
   "source": "response =",
   "id": "93f5cfa7c198dc95"
  },
  {
   "metadata": {
    "ExecuteTime": {
     "end_time": "2025-03-25T13:02:27.337526Z",
     "start_time": "2025-03-25T13:02:27.333437Z"
    }
   },
   "cell_type": "code",
   "outputs": [],
   "execution_count": 49,
   "source": [
    "TEMPLATE_AI = '''{response}'''\n",
    "TEMPLATE_H = '''I've recently adopted a {pet}\n",
    "Could you suggest some {pet} names?'''\n",
    "message_template_ai =AIMessagePromptTemplate.from_template(template = TEMPLATE_AI)\n",
    "message_template_h =HumanMessagePromptTemplate.from_template(template = TEMPLATE_H)\n"
   ],
   "id": "96adfb784a4337cb"
  },
  {
   "metadata": {
    "ExecuteTime": {
     "end_time": "2025-03-25T13:02:27.346635Z",
     "start_time": "2025-03-25T13:02:27.344150Z"
    }
   },
   "cell_type": "code",
   "source": "example_template = ChatPromptTemplate.from_messages([message_template_ai, message_template_h])",
   "id": "a4122612cc2dcbcc",
   "outputs": [],
   "execution_count": 50
  },
  {
   "metadata": {
    "ExecuteTime": {
     "end_time": "2025-03-25T13:02:27.356802Z",
     "start_time": "2025-03-25T13:02:27.353802Z"
    }
   },
   "cell_type": "code",
   "source": [
    "examples=[{'pet': 'dog', 'response': '''Oh, absolutely! I've been waiting all day for someone to ask me about dog names. Here are a few suggestions, carefully crafted with my unmatched AI wit:'''},\n",
    "          {'pet': 'cat', 'response': '''Oh, absolutely! I've been waiting all day for someone to ask me about cat names. Here are a few suggestions, carefully crafted with my unmatched AI wit:'''}\n",
    "          ]"
   ],
   "id": "709a9021516d9f35",
   "outputs": [],
   "execution_count": 51
  },
  {
   "metadata": {
    "ExecuteTime": {
     "end_time": "2025-03-25T13:02:27.366997Z",
     "start_time": "2025-03-25T13:02:27.363918Z"
    }
   },
   "cell_type": "code",
   "source": [
    "few_shot_prompt = FewShotChatMessagePromptTemplate(examples = examples,\n",
    "                                                   example_prompt=example_template)\n"
   ],
   "id": "d5221386d6373994",
   "outputs": [],
   "execution_count": 52
  },
  {
   "metadata": {
    "ExecuteTime": {
     "end_time": "2025-03-25T13:02:27.377Z",
     "start_time": "2025-03-25T13:02:27.374001Z"
    }
   },
   "cell_type": "code",
   "source": "chat_template = ChatPromptTemplate.from_messages([few_shot_prompt, message_template_h])",
   "id": "fece678b994e7664",
   "outputs": [],
   "execution_count": 53
  },
  {
   "metadata": {
    "ExecuteTime": {
     "end_time": "2025-03-25T13:02:27.388953Z",
     "start_time": "2025-03-25T13:02:27.385669Z"
    }
   },
   "cell_type": "code",
   "source": "chain = LLMChain(llm = chat, prompt = chat_template)",
   "id": "aefdf0dcc0a9725",
   "outputs": [],
   "execution_count": 54
  },
  {
   "metadata": {
    "ExecuteTime": {
     "end_time": "2025-03-25T13:02:37.266229Z",
     "start_time": "2025-03-25T13:02:27.404097Z"
    }
   },
   "cell_type": "code",
   "source": [
    "response = chain.invoke({'pet': 'fish'})\n",
    "response"
   ],
   "id": "10eb82d40b383f62",
   "outputs": [
    {
     "data": {
      "text/plain": [
       "{'pet': 'fish',\n",
       " 'text': 'Of course! Here are some fish names for your consideration:\\n\\n1. Bubbles\\n2. Finley\\n3. Goldie\\n4. Nemo\\n5. Dory\\n6. Sushi\\n7. Splash\\n8. Neptune\\n9. Coral\\n10. Pearl\\n11. Jaws\\n12. Marlin\\n13. Guppy\\n14. Tango\\n15. W'}"
      ]
     },
     "execution_count": 55,
     "metadata": {},
     "output_type": "execute_result"
    }
   ],
   "execution_count": 55
  }
 ],
 "metadata": {
  "kernelspec": {
   "display_name": "langchain_env",
   "language": "python",
   "name": "langchain_env"
  },
  "language_info": {
   "codemirror_mode": {
    "name": "ipython",
    "version": 2
   },
   "file_extension": ".py",
   "mimetype": "text/x-python",
   "name": "python",
   "nbconvert_exporter": "python",
   "pygments_lexer": "ipython2",
   "version": "2.7.6"
  }
 },
 "nbformat": 4,
 "nbformat_minor": 5
}
