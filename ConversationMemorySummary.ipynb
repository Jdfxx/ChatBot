{
 "cells": [
  {
   "cell_type": "markdown",
   "id": "e5a36e5c4cdd93f",
   "metadata": {},
   "source": "# Conversation Memory Summary"
  },
  {
   "cell_type": "code",
   "id": "initial_id",
   "metadata": {
    "ExecuteTime": {
     "end_time": "2025-03-26T12:00:45.100825Z",
     "start_time": "2025-03-26T12:00:45.097527Z"
    }
   },
   "source": [
    "from langchain_openai.chat_models import ChatOpenAI\n",
    "\n",
    "from langchain_core.prompts import PromptTemplate\n",
    "\n",
    "from langchain.chains.llm import LLMChain\n",
    "\n",
    "from langchain.memory import ConversationSummaryMemory\n",
    "\n",
    "from langchain.globals import set_verbose\n",
    "set_verbose(True)"
   ],
   "outputs": [],
   "execution_count": 12
  },
  {
   "cell_type": "code",
   "id": "6e1324b8f688ace5",
   "metadata": {
    "ExecuteTime": {
     "end_time": "2025-03-26T12:02:33.374117Z",
     "start_time": "2025-03-26T12:02:32.977357Z"
    }
   },
   "source": [
    "chat = ChatOpenAI(\n",
    "                  seed=365,\n",
    "                  temperature = 0,\n",
    "                  max_tokens = 80)"
   ],
   "outputs": [],
   "execution_count": 20
  },
  {
   "cell_type": "code",
   "id": "9aa055838e1fcaf1",
   "metadata": {
    "ExecuteTime": {
     "end_time": "2025-03-26T12:00:45.527807Z",
     "start_time": "2025-03-26T12:00:45.524293Z"
    }
   },
   "source": [
    "TEMPLATE = '''\n",
    "The following is a friendly conversation between a human and an AI.\n",
    "The AI is talkative and provides lots of specific details from its context.\n",
    "If the AI does not know the answer to a question, it truthfully says it does not know.\n",
    "\n",
    "Current conversation:\n",
    "{message_log}\n",
    "\n",
    "Human:\n",
    "{question}\n",
    "\n",
    "AI:\n",
    "'''\n",
    "\n",
    "prompt_template = PromptTemplate.from_template(template = TEMPLATE)"
   ],
   "outputs": [],
   "execution_count": 14
  },
  {
   "cell_type": "code",
   "id": "b3a731e767dd0a9d",
   "metadata": {
    "ExecuteTime": {
     "end_time": "2025-03-26T12:00:45.968369Z",
     "start_time": "2025-03-26T12:00:45.540Z"
    }
   },
   "source": [
    "chat_memory = ConversationSummaryMemory(llm = ChatOpenAI(),\n",
    "                                        memory_key = 'message_log',\n",
    "                                        return_messages = False)"
   ],
   "outputs": [],
   "execution_count": 15
  },
  {
   "cell_type": "code",
   "id": "aef94d537c30218d",
   "metadata": {
    "ExecuteTime": {
     "end_time": "2025-03-26T12:00:45.977373Z",
     "start_time": "2025-03-26T12:00:45.973374Z"
    }
   },
   "source": "chat_memory.load_memory_variables({})",
   "outputs": [
    {
     "data": {
      "text/plain": [
       "{'message_log': ''}"
      ]
     },
     "execution_count": 16,
     "metadata": {},
     "output_type": "execute_result"
    }
   ],
   "execution_count": 16
  },
  {
   "metadata": {
    "ExecuteTime": {
     "end_time": "2025-03-26T12:00:45.998864Z",
     "start_time": "2025-03-26T12:00:45.995584Z"
    }
   },
   "cell_type": "code",
   "source": [
    "chain = LLMChain(llm = chat,\n",
    "                 prompt = prompt_template,\n",
    "                 memory = chat_memory)"
   ],
   "id": "59ffa38905cd3129",
   "outputs": [],
   "execution_count": 17
  },
  {
   "metadata": {
    "ExecuteTime": {
     "end_time": "2025-03-26T12:02:58.221793Z",
     "start_time": "2025-03-26T12:02:52.329857Z"
    }
   },
   "cell_type": "code",
   "source": "chain.invoke({'question':\"Can you give me an interesting fact I probably didn't know about?\"})",
   "id": "88b5ccabca5c8bdc",
   "outputs": [
    {
     "name": "stdout",
     "output_type": "stream",
     "text": [
      "\n",
      "\n",
      "\u001B[1m> Entering new LLMChain chain...\u001B[0m\n",
      "Prompt after formatting:\n",
      "\u001B[32;1m\u001B[1;3m\n",
      "The following is a friendly conversation between a human and an AI.\n",
      "The AI is talkative and provides lots of specific details from its context.\n",
      "If the AI does not know the answer to a question, it truthfully says it does not know.\n",
      "\n",
      "Current conversation:\n",
      "The human asks the AI for an interesting fact they probably didn't know about. The AI shares that octopuses have three hearts, with two pumping blood to the gills and one pumping blood to the rest of the body. When an octopus swims, the heart delivering blood to the body stops beating, which is why they prefer crawling to swimming. The AI elaborates on this fact, explaining the roles of each of the octopus's three hearts in its unique cardiovascular system.\n",
      "\n",
      "Human:\n",
      "Can you give me an interesting fact I probably didn't know about?\n",
      "\n",
      "AI:\n",
      "\u001B[0m\n",
      "\n",
      "\n",
      "\u001B[1m> Entering new LLMChain chain...\u001B[0m\n",
      "Prompt after formatting:\n",
      "\u001B[32;1m\u001B[1;3mProgressively summarize the lines of conversation provided, adding onto the previous summary returning a new summary.\n",
      "\n",
      "EXAMPLE\n",
      "Current summary:\n",
      "The human asks what the AI thinks of artificial intelligence. The AI thinks artificial intelligence is a force for good.\n",
      "\n",
      "New lines of conversation:\n",
      "Human: Why do you think artificial intelligence is a force for good?\n",
      "AI: Because artificial intelligence will help humans reach their full potential.\n",
      "\n",
      "New summary:\n",
      "The human asks what the AI thinks of artificial intelligence. The AI thinks artificial intelligence is a force for good because it will help humans reach their full potential.\n",
      "END OF EXAMPLE\n",
      "\n",
      "Current summary:\n",
      "The human asks the AI for an interesting fact they probably didn't know about. The AI shares that octopuses have three hearts, with two pumping blood to the gills and one pumping blood to the rest of the body. When an octopus swims, the heart delivering blood to the body stops beating, which is why they prefer crawling to swimming. The AI elaborates on this fact, explaining the roles of each of the octopus's three hearts in its unique cardiovascular system.\n",
      "\n",
      "New lines of conversation:\n",
      "Human: Can you give me an interesting fact I probably didn't know about?\n",
      "AI: Sure, did you know that honey never spoils? Archaeologists have found pots of honey in ancient Egyptian tombs that are over 3,000 years old and still perfectly edible. Honey is naturally antibacterial and has a low moisture content, which helps to prevent the growth of bacteria and other microorganisms. Additionally, when bees make honey, they add an enzyme that makes hydrogen peroxide, further\n",
      "\n",
      "New summary:\u001B[0m\n",
      "\n",
      "\u001B[1m> Finished chain.\u001B[0m\n",
      "\n",
      "\u001B[1m> Finished chain.\u001B[0m\n"
     ]
    },
    {
     "data": {
      "text/plain": [
       "{'question': \"Can you give me an interesting fact I probably didn't know about?\",\n",
       " 'message_log': \"The human asks the AI for an interesting fact they probably didn't know about. The AI shares that octopuses have three hearts, with two pumping blood to the gills and one pumping blood to the rest of the body. When an octopus swims, the heart delivering blood to the body stops beating, which is why they prefer crawling to swimming. The AI elaborates on this fact, explaining the roles of each of the octopus's three hearts in its unique cardiovascular system.\",\n",
       " 'text': 'Sure, did you know that honey never spoils? Archaeologists have found pots of honey in ancient Egyptian tombs that are over 3,000 years old and still perfectly edible. Honey is naturally antibacterial and has a low moisture content, which helps to prevent the growth of bacteria and other microorganisms. Additionally, when bees make honey, they add an enzyme that makes hydrogen peroxide, further'}"
      ]
     },
     "execution_count": 21,
     "metadata": {},
     "output_type": "execute_result"
    }
   ],
   "execution_count": 21
  },
  {
   "metadata": {
    "ExecuteTime": {
     "end_time": "2025-03-26T12:03:56.266415Z",
     "start_time": "2025-03-26T12:03:51.112080Z"
    }
   },
   "cell_type": "code",
   "source": "chain.invoke({'question':\"Can you elaborate a bit more on this fact?\"})",
   "id": "abe14c2c639266b",
   "outputs": [
    {
     "name": "stdout",
     "output_type": "stream",
     "text": [
      "\n",
      "\n",
      "\u001B[1m> Entering new LLMChain chain...\u001B[0m\n",
      "Prompt after formatting:\n",
      "\u001B[32;1m\u001B[1;3m\n",
      "The following is a friendly conversation between a human and an AI.\n",
      "The AI is talkative and provides lots of specific details from its context.\n",
      "If the AI does not know the answer to a question, it truthfully says it does not know.\n",
      "\n",
      "Current conversation:\n",
      "The human asks the AI for an interesting fact they probably didn't know about. The AI shares that octopuses have three hearts, with two pumping blood to the gills and one pumping blood to the rest of the body. When an octopus swims, the heart delivering blood to the body stops beating, which is why they prefer crawling to swimming. The AI elaborates on this fact, explaining the roles of each of the octopus's three hearts in its unique cardiovascular system. The human then asks for another interesting fact, and the AI shares that honey never spoils due to its antibacterial properties and low moisture content. Additionally, bees add an enzyme that creates hydrogen peroxide in honey, further contributing to its long shelf life.\n",
      "\n",
      "Human:\n",
      "Can you elaborate a bit more on this fact?\n",
      "\n",
      "AI:\n",
      "\u001B[0m\n",
      "\n",
      "\n",
      "\u001B[1m> Entering new LLMChain chain...\u001B[0m\n",
      "Prompt after formatting:\n",
      "\u001B[32;1m\u001B[1;3mProgressively summarize the lines of conversation provided, adding onto the previous summary returning a new summary.\n",
      "\n",
      "EXAMPLE\n",
      "Current summary:\n",
      "The human asks what the AI thinks of artificial intelligence. The AI thinks artificial intelligence is a force for good.\n",
      "\n",
      "New lines of conversation:\n",
      "Human: Why do you think artificial intelligence is a force for good?\n",
      "AI: Because artificial intelligence will help humans reach their full potential.\n",
      "\n",
      "New summary:\n",
      "The human asks what the AI thinks of artificial intelligence. The AI thinks artificial intelligence is a force for good because it will help humans reach their full potential.\n",
      "END OF EXAMPLE\n",
      "\n",
      "Current summary:\n",
      "The human asks the AI for an interesting fact they probably didn't know about. The AI shares that octopuses have three hearts, with two pumping blood to the gills and one pumping blood to the rest of the body. When an octopus swims, the heart delivering blood to the body stops beating, which is why they prefer crawling to swimming. The AI elaborates on this fact, explaining the roles of each of the octopus's three hearts in its unique cardiovascular system. The human then asks for another interesting fact, and the AI shares that honey never spoils due to its antibacterial properties and low moisture content. Additionally, bees add an enzyme that creates hydrogen peroxide in honey, further contributing to its long shelf life.\n",
      "\n",
      "New lines of conversation:\n",
      "Human: Can you elaborate a bit more on this fact?\n",
      "AI: Absolutely! Honey's long shelf life is due to a few key factors. First, it has a very low moisture content, which means that bacteria and other harmful microorganisms cannot survive in it. This is because the high sugar content in honey draws out the water from any bacteria or yeast cells that could potentially cause spoilage, effectively killing them.\n",
      "\n",
      "Second, when bees collect nectar, they add an\n",
      "\n",
      "New summary:\u001B[0m\n",
      "\n",
      "\u001B[1m> Finished chain.\u001B[0m\n",
      "\n",
      "\u001B[1m> Finished chain.\u001B[0m\n"
     ]
    },
    {
     "data": {
      "text/plain": [
       "{'question': 'Can you elaborate a bit more on this fact?',\n",
       " 'message_log': \"The human asks the AI for an interesting fact they probably didn't know about. The AI shares that octopuses have three hearts, with two pumping blood to the gills and one pumping blood to the rest of the body. When an octopus swims, the heart delivering blood to the body stops beating, which is why they prefer crawling to swimming. The AI elaborates on this fact, explaining the roles of each of the octopus's three hearts in its unique cardiovascular system. The human then asks for another interesting fact, and the AI shares that honey never spoils due to its antibacterial properties and low moisture content. Additionally, bees add an enzyme that creates hydrogen peroxide in honey, further contributing to its long shelf life.\",\n",
       " 'text': \"Absolutely! Honey's long shelf life is due to a few key factors. First, it has a very low moisture content, which means that bacteria and other harmful microorganisms cannot survive in it. This is because the high sugar content in honey draws out the water from any bacteria or yeast cells that could potentially cause spoilage, effectively killing them.\\n\\nSecond, when bees collect nectar, they add an\"}"
      ]
     },
     "execution_count": 22,
     "metadata": {},
     "output_type": "execute_result"
    }
   ],
   "execution_count": 22
  }
 ],
 "metadata": {
  "kernelspec": {
   "display_name": "langchain_env",
   "language": "python",
   "name": "langchain_env"
  },
  "language_info": {
   "codemirror_mode": {
    "name": "ipython",
    "version": 3
   },
   "file_extension": ".py",
   "mimetype": "text/x-python",
   "name": "python",
   "nbconvert_exporter": "python",
   "pygments_lexer": "ipython3",
   "version": "3.12.9"
  }
 },
 "nbformat": 4,
 "nbformat_minor": 5
}
