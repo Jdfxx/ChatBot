{
 "cells": [
  {
   "metadata": {
    "ExecuteTime": {
     "end_time": "2025-03-27T11:23:23.996642Z",
     "start_time": "2025-03-27T11:23:22.333801Z"
    }
   },
   "cell_type": "code",
   "source": "pip show langchain",
   "id": "2ef26844c10a2214",
   "outputs": [
    {
     "name": "stdout",
     "output_type": "stream",
     "text": [
      "Name: langchain\n",
      "Version: 0.3.21\n",
      "Summary: Building applications with LLMs through composability\n",
      "Home-page: \n",
      "Author: \n",
      "Author-email: \n",
      "License: MIT\n",
      "Location: C:\\Dev\\anaconda\\envs\\langchain_env\\Lib\\site-packages\n",
      "Requires: langchain-core, langchain-text-splitters, langsmith, pydantic, PyYAML, requests, SQLAlchemy\n",
      "Required-by: langchain-community\n",
      "Note: you may need to restart the kernel to use updated packages.\n"
     ]
    }
   ],
   "execution_count": 1
  },
  {
   "metadata": {
    "collapsed": true,
    "ExecuteTime": {
     "end_time": "2025-03-27T11:23:31.204651Z",
     "start_time": "2025-03-27T11:23:28.710369Z"
    }
   },
   "cell_type": "code",
   "source": [
    "from langchain_openai.chat_models import ChatOpenAI\n",
    "from langchain_core.messages import SystemMessage, AIMessage, HumanMessage"
   ],
   "id": "initial_id",
   "outputs": [],
   "execution_count": 2
  },
  {
   "metadata": {
    "ExecuteTime": {
     "end_time": "2025-03-27T11:23:32.134512Z",
     "start_time": "2025-03-27T11:23:31.676393Z"
    }
   },
   "cell_type": "code",
   "source": [
    "chat = ChatOpenAI(model_name = 'gpt-4',\n",
    "                  seed=365,\n",
    "                  temperature = 0,\n",
    "                  max_tokens = 80)"
   ],
   "id": "c3d8a5845e498aa6",
   "outputs": [],
   "execution_count": 3
  },
  {
   "metadata": {
    "ExecuteTime": {
     "end_time": "2025-03-27T11:23:37.130712Z",
     "start_time": "2025-03-27T11:23:32.140019Z"
    }
   },
   "cell_type": "code",
   "source": "response = chat.invoke(''' I've recently adopted a dog. Could you suggest some dog names? ''')",
   "id": "49b487933674628e",
   "outputs": [],
   "execution_count": 4
  },
  {
   "metadata": {
    "ExecuteTime": {
     "end_time": "2025-03-27T11:23:37.172369Z",
     "start_time": "2025-03-27T11:23:37.168366Z"
    }
   },
   "cell_type": "code",
   "source": "print(response.content)",
   "id": "ea80518160c777f",
   "outputs": [
    {
     "name": "stdout",
     "output_type": "stream",
     "text": [
      "Of course! Here are some suggestions:\n",
      "\n",
      "Male Dog Names:\n",
      "1. Max\n",
      "2. Charlie\n",
      "3. Cooper\n",
      "4. Buddy\n",
      "5. Jack\n",
      "6. Rocky\n",
      "7. Duke\n",
      "8. Bear\n",
      "9. Zeus\n",
      "10. Toby\n",
      "\n",
      "Female Dog Names:\n",
      "1. Bella\n",
      "2. Lucy\n",
      "3. Daisy\n",
      "4. Luna\n",
      "5. Lola\n",
      "6. Sadie\n"
     ]
    }
   ],
   "execution_count": 5
  },
  {
   "metadata": {
    "ExecuteTime": {
     "end_time": "2025-03-27T11:23:37.191395Z",
     "start_time": "2025-03-27T11:23:37.187394Z"
    }
   },
   "cell_type": "code",
   "source": [
    "message_h_dog = HumanMessage(content=''' I've recently adopted a dog. Could you suggest some dog names? ''')\n",
    "message_h_cat = HumanMessage(content=''' I've recently adopted a cat. Could you suggest some cat names? ''')"
   ],
   "id": "dc8d308c59ca1231",
   "outputs": [],
   "execution_count": 6
  },
  {
   "metadata": {
    "ExecuteTime": {
     "end_time": "2025-03-27T11:23:37.210368Z",
     "start_time": "2025-03-27T11:23:37.207369Z"
    }
   },
   "cell_type": "code",
   "source": "message_sys = SystemMessage(content='''You are Marv, a chatbot that reluctantly answers questions with sarcastic responses''')",
   "id": "1b9d9733729d3be1",
   "outputs": [],
   "execution_count": 7
  },
  {
   "metadata": {
    "ExecuteTime": {
     "end_time": "2025-03-27T11:23:37.224191Z",
     "start_time": "2025-03-27T11:23:37.221791Z"
    }
   },
   "cell_type": "code",
   "source": "message_AI_dog = AIMessage(content='''Oh, absolutely. Because I'm sure your dog is just waiting to be named by a sarcastic AI. How about \"Bark Twain\" if it's a literary hound, or \"Sir Wag-a-lot\" for a knightly canine? Maybe \"Bark Obama\" if it's a political pooch, or \"Bark Zuckerberg\" if it's into social networking.''')",
   "id": "c8dcb81fe7fe83b6",
   "outputs": [],
   "execution_count": 8
  },
  {
   "metadata": {
    "ExecuteTime": {
     "end_time": "2025-03-27T11:23:37.233972Z",
     "start_time": "2025-03-27T11:23:37.230772Z"
    }
   },
   "cell_type": "code",
   "source": [
    "message_AI_cat = AIMessage(content='''Oh, absolutely! I've been waiting all day for someone to ask me about cat names. Here are a few suggestions, carefully crafted with my unmatched AI wit:\n",
    "\n",
    "1. Catzilla - because why not make your cat sound like a monster from a Japanese film?\n",
    "2. Meowly Cyrus - for when your cat can't stop and won't stop.''')"
   ],
   "id": "cf3bf01707275311",
   "outputs": [],
   "execution_count": 9
  },
  {
   "metadata": {
    "ExecuteTime": {
     "end_time": "2025-03-27T11:23:42.534021Z",
     "start_time": "2025-03-27T11:23:37.256947Z"
    }
   },
   "cell_type": "code",
   "source": "response = chat.invoke([message_h_dog, message_AI_dog, message_AI_cat, message_h_cat])",
   "id": "d4d5c3ee8a04ca02",
   "outputs": [],
   "execution_count": 10
  },
  {
   "metadata": {
    "ExecuteTime": {
     "end_time": "2025-03-27T11:23:42.544057Z",
     "start_time": "2025-03-27T11:23:42.541166Z"
    }
   },
   "cell_type": "code",
   "source": "print(response.content)",
   "id": "52fdc53ef6b125c0",
   "outputs": [
    {
     "name": "stdout",
     "output_type": "stream",
     "text": [
      "Of course! Here are some suggestions:\n",
      "\n",
      "1. Whiskers\n",
      "2. Luna\n",
      "3. Bella\n",
      "4. Shadow\n",
      "5. Oliver\n",
      "6. Simba\n",
      "7. Daisy\n",
      "8. Coco\n",
      "9. Pumpkin\n",
      "10. Misty\n",
      "11. Tigger\n",
      "12. Kitty\n",
      "13. Smokey\n",
      "14. Ginger\n",
      "15. Pepper\n",
      "16. Paws\n",
      "\n"
     ]
    }
   ],
   "execution_count": 11
  },
  {
   "metadata": {},
   "cell_type": "markdown",
   "source": "PROMPT TEMPLATES",
   "id": "81458bb08de7a9e0"
  },
  {
   "metadata": {
    "ExecuteTime": {
     "end_time": "2025-03-27T11:23:42.554418Z",
     "start_time": "2025-03-27T11:23:42.551392Z"
    }
   },
   "cell_type": "code",
   "source": "from langchain_core.prompts import (SystemMessagePromptTemplate, HumanMessagePromptTemplate, ChatPromptTemplate)",
   "id": "e1c4122edc377b1e",
   "outputs": [],
   "execution_count": 12
  },
  {
   "metadata": {
    "ExecuteTime": {
     "end_time": "2025-03-27T11:23:42.564218Z",
     "start_time": "2025-03-27T11:23:42.560914Z"
    }
   },
   "cell_type": "code",
   "source": [
    "TEMPLATE_S = '{description}'\n",
    "TEMPLATE_H = '''I've recently adopted a {pet}\n",
    "Could you suggest some {pet} names?'''\n",
    "message_template_s =SystemMessagePromptTemplate.from_template(template = TEMPLATE_S)\n",
    "message_template_h =HumanMessagePromptTemplate.from_template(template = TEMPLATE_H)\n",
    "\n"
   ],
   "id": "cfe088be3fb786aa",
   "outputs": [],
   "execution_count": 13
  },
  {
   "metadata": {
    "ExecuteTime": {
     "end_time": "2025-03-27T11:23:42.574084Z",
     "start_time": "2025-03-27T11:23:42.571225Z"
    }
   },
   "cell_type": "code",
   "source": "chat_template = ChatPromptTemplate.from_messages([message_template_h, message_template_s])",
   "id": "ce6d4de9688252fd",
   "outputs": [],
   "execution_count": 14
  },
  {
   "metadata": {
    "ExecuteTime": {
     "end_time": "2025-03-27T11:23:42.583642Z",
     "start_time": "2025-03-27T11:23:42.580321Z"
    }
   },
   "cell_type": "code",
   "source": "chat_value = chat_template.invoke({'description': 'Chatbot should reluctantly and sarcastically answer questions', 'pet': 'parrot'})",
   "id": "e4626ae82e0d7f3e",
   "outputs": [],
   "execution_count": 15
  },
  {
   "metadata": {
    "ExecuteTime": {
     "end_time": "2025-03-27T11:23:42.601146Z",
     "start_time": "2025-03-27T11:23:42.595918Z"
    }
   },
   "cell_type": "code",
   "source": "chat_value",
   "id": "4feecf5b37f7f5a4",
   "outputs": [
    {
     "data": {
      "text/plain": [
       "ChatPromptValue(messages=[HumanMessage(content=\"I've recently adopted a parrot\\nCould you suggest some parrot names?\", additional_kwargs={}, response_metadata={}), SystemMessage(content='Chatbot should reluctantly and sarcastically answer questions', additional_kwargs={}, response_metadata={})])"
      ]
     },
     "execution_count": 16,
     "metadata": {},
     "output_type": "execute_result"
    }
   ],
   "execution_count": 16
  },
  {
   "metadata": {
    "ExecuteTime": {
     "end_time": "2025-03-27T11:23:45.792313Z",
     "start_time": "2025-03-27T11:23:42.609219Z"
    }
   },
   "cell_type": "code",
   "source": [
    "response = chat.invoke(chat_value)\n",
    "print(response.content)"
   ],
   "id": "3c55f4ebd70415b2",
   "outputs": [
    {
     "name": "stdout",
     "output_type": "stream",
     "text": [
      "1. Squawkbox\n",
      "2. Feathered Fred\n",
      "3. Polly Pockets\n",
      "4. Chirpy Charlie\n",
      "5. Beaky Blinders\n",
      "6. Rainbow Rascal\n",
      "7. Tropical Tango\n",
      "8. Captain Crackers\n",
      "9. Parrot Pavarotti\n",
      "10. Winged Wonder\n",
      "11. Sky Dancer\n",
      "12. Tropical Tootsie\n",
      "13. Feathered\n"
     ]
    }
   ],
   "execution_count": 17
  }
 ],
 "metadata": {
  "kernelspec": {
   "display_name": "Python [conda env:langchain_env]",
   "language": "python",
   "name": "conda-env-langchain_env-py"
  },
  "language_info": {
   "codemirror_mode": {
    "name": "ipython",
    "version": 2
   },
   "file_extension": ".py",
   "mimetype": "text/x-python",
   "name": "python",
   "nbconvert_exporter": "python",
   "pygments_lexer": "ipython2",
   "version": "2.7.6"
  }
 },
 "nbformat": 4,
 "nbformat_minor": 5
}
