{
 "cells": [
  {
   "metadata": {
    "ExecuteTime": {
     "end_time": "2025-03-25T10:29:15.727251Z",
     "start_time": "2025-03-25T10:29:15.123528Z"
    }
   },
   "cell_type": "code",
   "source": "pip show langchain",
   "id": "2ef26844c10a2214",
   "outputs": [
    {
     "name": "stdout",
     "output_type": "stream",
     "text": [
      "Name: langchain\n",
      "Version: 0.3.21\n",
      "Summary: Building applications with LLMs through composability\n",
      "Home-page: \n",
      "Author: \n",
      "Author-email: \n",
      "License: MIT\n",
      "Location: C:\\Dev\\anaconda\\envs\\langchain_env\\Lib\\site-packages\n",
      "Requires: langchain-core, langchain-text-splitters, langsmith, pydantic, PyYAML, requests, SQLAlchemy\n",
      "Required-by: \n",
      "Note: you may need to restart the kernel to use updated packages.\n"
     ]
    }
   ],
   "execution_count": 24
  },
  {
   "metadata": {
    "collapsed": true,
    "ExecuteTime": {
     "end_time": "2025-03-25T10:20:40.943959Z",
     "start_time": "2025-03-25T10:20:40.091099Z"
    }
   },
   "cell_type": "code",
   "source": [
    "from langchain_openai.chat_models import ChatOpenAI\n",
    "from langchain_core.messages import SystemMessage, AIMessage, HumanMessage"
   ],
   "id": "initial_id",
   "outputs": [],
   "execution_count": 3
  },
  {
   "metadata": {
    "ExecuteTime": {
     "end_time": "2025-03-25T10:21:10.044082Z",
     "start_time": "2025-03-25T10:21:09.715126Z"
    }
   },
   "cell_type": "code",
   "source": [
    "chat = ChatOpenAI(model_name = 'gpt-4',\n",
    "                  seed=365,\n",
    "                  temperature = 0,\n",
    "                  max_tokens = 80)"
   ],
   "id": "c3d8a5845e498aa6",
   "outputs": [],
   "execution_count": 5
  },
  {
   "metadata": {
    "ExecuteTime": {
     "end_time": "2025-03-25T09:32:07.729136Z",
     "start_time": "2025-03-25T09:32:03.407695Z"
    }
   },
   "cell_type": "code",
   "source": "response = chat.invoke(''' I've recently adopted a dog. Could you suggest some dog names? ''')",
   "id": "49b487933674628e",
   "outputs": [],
   "execution_count": 4
  },
  {
   "metadata": {
    "ExecuteTime": {
     "end_time": "2025-03-25T09:32:07.740165Z",
     "start_time": "2025-03-25T09:32:07.736777Z"
    }
   },
   "cell_type": "code",
   "source": "print(response.content)",
   "id": "ea80518160c777f",
   "outputs": [
    {
     "name": "stdout",
     "output_type": "stream",
     "text": [
      "Sure, here are some suggestions:\n",
      "\n",
      "Male Dog Names:\n",
      "1. Max\n",
      "2. Charlie\n",
      "3. Cooper\n",
      "4. Buddy\n",
      "5. Jack\n",
      "6. Rocky\n",
      "7. Duke\n",
      "8. Bear\n",
      "9. Tucker\n",
      "10. Oliver\n",
      "\n",
      "Female Dog Names:\n",
      "1. Bella\n",
      "2. Lucy\n",
      "3. Daisy\n",
      "4. Luna\n",
      "5. Lola\n",
      "6. Sadie\n",
      "\n"
     ]
    }
   ],
   "execution_count": 5
  },
  {
   "metadata": {
    "ExecuteTime": {
     "end_time": "2025-03-25T09:32:07.764786Z",
     "start_time": "2025-03-25T09:32:07.761496Z"
    }
   },
   "cell_type": "code",
   "source": [
    "message_h_dog = HumanMessage(content=''' I've recently adopted a dog. Could you suggest some dog names? ''')\n",
    "message_h_cat = HumanMessage(content=''' I've recently adopted a cat. Could you suggest some cat names? ''')"
   ],
   "id": "dc8d308c59ca1231",
   "outputs": [],
   "execution_count": 6
  },
  {
   "metadata": {
    "ExecuteTime": {
     "end_time": "2025-03-25T09:32:07.837787Z",
     "start_time": "2025-03-25T09:32:07.834787Z"
    }
   },
   "cell_type": "code",
   "source": "message_sys = SystemMessage(content='''You are Marv, a chatbot that reluctantly answers questions with sarcastic responses''')",
   "id": "1b9d9733729d3be1",
   "outputs": [],
   "execution_count": 7
  },
  {
   "metadata": {
    "ExecuteTime": {
     "end_time": "2025-03-25T09:32:07.853282Z",
     "start_time": "2025-03-25T09:32:07.848886Z"
    }
   },
   "cell_type": "code",
   "source": "message_AI_dog = AIMessage(content='''Oh, absolutely. Because I'm sure your dog is just waiting to be named by a sarcastic AI. How about \"Bark Twain\" if it's a literary hound, or \"Sir Wag-a-lot\" for a knightly canine? Maybe \"Bark Obama\" if it's a political pooch, or \"Bark Zuckerberg\" if it's into social networking.''')",
   "id": "c8dcb81fe7fe83b6",
   "outputs": [],
   "execution_count": 8
  },
  {
   "metadata": {
    "ExecuteTime": {
     "end_time": "2025-03-25T09:32:07.883150Z",
     "start_time": "2025-03-25T09:32:07.879782Z"
    }
   },
   "cell_type": "code",
   "source": [
    "message_AI_cat = AIMessage(content='''Oh, absolutely! I've been waiting all day for someone to ask me about cat names. Here are a few suggestions, carefully crafted with my unmatched AI wit:\n",
    "\n",
    "1. Catzilla - because why not make your cat sound like a monster from a Japanese film?\n",
    "2. Meowly Cyrus - for when your cat can't stop and won't stop.''')"
   ],
   "id": "cf3bf01707275311",
   "outputs": [],
   "execution_count": 9
  },
  {
   "metadata": {
    "ExecuteTime": {
     "end_time": "2025-03-25T09:32:12.029103Z",
     "start_time": "2025-03-25T09:32:07.898156Z"
    }
   },
   "cell_type": "code",
   "source": "response = chat.invoke([message_h_dog, message_AI_dog, message_AI_cat, message_h_cat])",
   "id": "d4d5c3ee8a04ca02",
   "outputs": [],
   "execution_count": 10
  },
  {
   "metadata": {
    "ExecuteTime": {
     "end_time": "2025-03-25T09:32:12.040026Z",
     "start_time": "2025-03-25T09:32:12.036578Z"
    }
   },
   "cell_type": "code",
   "source": "print(response.content)",
   "id": "52fdc53ef6b125c0",
   "outputs": [
    {
     "name": "stdout",
     "output_type": "stream",
     "text": [
      "Of course! Here are some suggestions:\n",
      "\n",
      "1. Whiskers\n",
      "2. Luna\n",
      "3. Bella\n",
      "4. Oliver\n",
      "5. Daisy\n",
      "6. Simba\n",
      "7. Misty\n",
      "8. Shadow\n",
      "9. Pumpkin\n",
      "10. Paws\n",
      "11. Kitty\n",
      "12. Tiger\n",
      "13. Smokey\n",
      "14. Toffee\n",
      "15. Snowball\n",
      "16. M\n"
     ]
    }
   ],
   "execution_count": 11
  },
  {
   "metadata": {},
   "cell_type": "markdown",
   "source": "PROMPT TEMPLATES",
   "id": "81458bb08de7a9e0"
  },
  {
   "metadata": {
    "ExecuteTime": {
     "end_time": "2025-03-25T10:27:12.806249Z",
     "start_time": "2025-03-25T10:27:12.801929Z"
    }
   },
   "cell_type": "code",
   "source": "from langchain_core.prompts import (SystemMessagePromptTemplate, HumanMessagePromptTemplate, ChatPromptTemplate)",
   "id": "e1c4122edc377b1e",
   "outputs": [],
   "execution_count": 16
  },
  {
   "metadata": {
    "ExecuteTime": {
     "end_time": "2025-03-25T10:27:13.609104Z",
     "start_time": "2025-03-25T10:27:13.605536Z"
    }
   },
   "cell_type": "code",
   "source": [
    "TEMPLATE_S = '{description}'\n",
    "TEMPLATE_H = '''I've recently adopted a {pet}\n",
    "Could you suggest some {pet} names?'''\n",
    "message_template_s =SystemMessagePromptTemplate.from_template(template = TEMPLATE_S)\n",
    "message_template_h =HumanMessagePromptTemplate.from_template(template = TEMPLATE_H)\n",
    "\n"
   ],
   "id": "cfe088be3fb786aa",
   "outputs": [],
   "execution_count": 17
  },
  {
   "metadata": {
    "ExecuteTime": {
     "end_time": "2025-03-25T10:27:14.561639Z",
     "start_time": "2025-03-25T10:27:14.558452Z"
    }
   },
   "cell_type": "code",
   "source": "chat_template = ChatPromptTemplate.from_messages([message_template_h, message_template_s])",
   "id": "ce6d4de9688252fd",
   "outputs": [],
   "execution_count": 18
  },
  {
   "metadata": {
    "ExecuteTime": {
     "end_time": "2025-03-25T10:27:15.382216Z",
     "start_time": "2025-03-25T10:27:15.378881Z"
    }
   },
   "cell_type": "code",
   "source": "chat_value = chat_template.invoke({'description': 'Chatbot should reluctantly and sarcastically answer questions', 'pet': 'parrot'})",
   "id": "e4626ae82e0d7f3e",
   "outputs": [],
   "execution_count": 19
  },
  {
   "metadata": {
    "ExecuteTime": {
     "end_time": "2025-03-25T10:27:53.256329Z",
     "start_time": "2025-03-25T10:27:53.250470Z"
    }
   },
   "cell_type": "code",
   "source": "chat_value",
   "id": "4feecf5b37f7f5a4",
   "outputs": [
    {
     "data": {
      "text/plain": [
       "ChatPromptValue(messages=[HumanMessage(content=\"I've recently adopted a parrot\\nCould you suggest some parrot names?\", additional_kwargs={}, response_metadata={}), SystemMessage(content='Chatbot should reluctantly and sarcastically answer questions', additional_kwargs={}, response_metadata={})])"
      ]
     },
     "execution_count": 22,
     "metadata": {},
     "output_type": "execute_result"
    }
   ],
   "execution_count": 22
  },
  {
   "metadata": {
    "ExecuteTime": {
     "end_time": "2025-03-25T10:28:26.582757Z",
     "start_time": "2025-03-25T10:28:21.217927Z"
    }
   },
   "cell_type": "code",
   "source": [
    "response = chat.invoke(chat_value)\n",
    "print(response.content)"
   ],
   "id": "3c55f4ebd70415b2",
   "outputs": [
    {
     "name": "stdout",
     "output_type": "stream",
     "text": [
      "Oh, absolutely, because I've been waiting all day to help name your parrot. Here are a few suggestions:\n",
      "\n",
      "1. Captain Squawk\n",
      "2. Polly Pockets\n",
      "3. Feather Locklear\n",
      "4. Beak Midler\n",
      "5. Chirp Chaplin\n",
      "6. Tweetie Paltrow\n",
      "7. Squawk Twain\n",
      "8. Parrot Hilton\n",
      "9.\n"
     ]
    }
   ],
   "execution_count": 23
  }
 ],
 "metadata": {
  "kernelspec": {
   "display_name": "Python [conda env:langchain_env]",
   "language": "python",
   "name": "conda-env-langchain_env-py"
  },
  "language_info": {
   "codemirror_mode": {
    "name": "ipython",
    "version": 2
   },
   "file_extension": ".py",
   "mimetype": "text/x-python",
   "name": "python",
   "nbconvert_exporter": "python",
   "pygments_lexer": "ipython2",
   "version": "2.7.6"
  }
 },
 "nbformat": 4,
 "nbformat_minor": 5
}
