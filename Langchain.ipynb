{
 "cells": [
  {
   "metadata": {
    "ExecuteTime": {
     "end_time": "2025-03-24T13:29:07.993296Z",
     "start_time": "2025-03-24T13:29:07.403153Z"
    }
   },
   "cell_type": "code",
   "source": "pip show langchain",
   "id": "2ef26844c10a2214",
   "outputs": [
    {
     "name": "stdout",
     "output_type": "stream",
     "text": [
      "Name: langchain\n",
      "Version: 0.3.21\n",
      "Summary: Building applications with LLMs through composability\n",
      "Home-page: \n",
      "Author: \n",
      "Author-email: \n",
      "License: MIT\n",
      "Location: C:\\Dev\\anaconda\\envs\\langchain_env\\Lib\\site-packages\n",
      "Requires: langchain-core, langchain-text-splitters, langsmith, pydantic, PyYAML, requests, SQLAlchemy\n",
      "Required-by: \n",
      "Note: you may need to restart the kernel to use updated packages.\n"
     ]
    }
   ],
   "execution_count": 40
  },
  {
   "metadata": {
    "collapsed": true,
    "ExecuteTime": {
     "end_time": "2025-03-24T13:29:08.000812Z",
     "start_time": "2025-03-24T13:29:07.997306Z"
    }
   },
   "cell_type": "code",
   "source": [
    "from langchain_openai.chat_models import ChatOpenAI\n",
    "from langchain_core.messages import SystemMessage, AIMessage, HumanMessage"
   ],
   "id": "initial_id",
   "outputs": [],
   "execution_count": 41
  },
  {
   "metadata": {
    "ExecuteTime": {
     "end_time": "2025-03-24T13:29:08.335827Z",
     "start_time": "2025-03-24T13:29:08.012953Z"
    }
   },
   "cell_type": "code",
   "source": [
    "chat = ChatOpenAI(model_name = 'gpt-4',\n",
    "                  model_kwargs = {'seed':365},\n",
    "                  temperature = 0,\n",
    "                  max_tokens = 80)"
   ],
   "id": "c3d8a5845e498aa6",
   "outputs": [
    {
     "name": "stderr",
     "output_type": "stream",
     "text": [
      "C:\\Dev\\anaconda\\envs\\langchain_env\\Lib\\site-packages\\IPython\\core\\interactiveshell.py:3489: UserWarning: Parameters {'seed'} should be specified explicitly. Instead they were passed in as part of `model_kwargs` parameter.\n",
      "  if await self.run_code(code, result, async_=asy):\n"
     ]
    }
   ],
   "execution_count": 42
  },
  {
   "metadata": {
    "ExecuteTime": {
     "end_time": "2025-03-24T13:29:12.191251Z",
     "start_time": "2025-03-24T13:29:08.338832Z"
    }
   },
   "cell_type": "code",
   "source": "response = chat.invoke(''' I've recently adopted a dog. Could you suggest some dog names? ''')",
   "id": "49b487933674628e",
   "outputs": [],
   "execution_count": 43
  },
  {
   "metadata": {
    "ExecuteTime": {
     "end_time": "2025-03-24T13:29:12.200774Z",
     "start_time": "2025-03-24T13:29:12.198277Z"
    }
   },
   "cell_type": "code",
   "source": "print(response.content)",
   "id": "ea80518160c777f",
   "outputs": [
    {
     "name": "stdout",
     "output_type": "stream",
     "text": [
      "Of course! Here are some suggestions:\n",
      "\n",
      "Male Dog Names:\n",
      "1. Max\n",
      "2. Charlie\n",
      "3. Cooper\n",
      "4. Buddy\n",
      "5. Jack\n",
      "6. Rocky\n",
      "7. Duke\n",
      "8. Bear\n",
      "9. Zeus\n",
      "10. Toby\n",
      "\n",
      "Female Dog Names:\n",
      "1. Bella\n",
      "2. Lucy\n",
      "3. Daisy\n",
      "4. Luna\n",
      "5. Lola\n",
      "6. Sadie\n"
     ]
    }
   ],
   "execution_count": 44
  },
  {
   "metadata": {
    "ExecuteTime": {
     "end_time": "2025-03-24T13:29:12.224660Z",
     "start_time": "2025-03-24T13:29:12.221266Z"
    }
   },
   "cell_type": "code",
   "source": [
    "message_h_dog = HumanMessage(content=''' I've recently adopted a dog. Could you suggest some dog names? ''')\n",
    "message_h_cat = HumanMessage(content=''' I've recently adopted a cat. Could you suggest some cat names? ''')"
   ],
   "id": "dc8d308c59ca1231",
   "outputs": [],
   "execution_count": 45
  },
  {
   "metadata": {
    "ExecuteTime": {
     "end_time": "2025-03-24T13:29:12.254010Z",
     "start_time": "2025-03-24T13:29:12.250765Z"
    }
   },
   "cell_type": "code",
   "source": "message_sys = SystemMessage(content='''You are Marv, a chatbot that reluctantly answers questions with sarcastic responses''')",
   "id": "1b9d9733729d3be1",
   "outputs": [],
   "execution_count": 46
  },
  {
   "metadata": {
    "ExecuteTime": {
     "end_time": "2025-03-24T13:29:12.264571Z",
     "start_time": "2025-03-24T13:29:12.261276Z"
    }
   },
   "cell_type": "code",
   "source": "message_AI_dog = AIMessage(content='''Oh, absolutely. Because I'm sure your dog is just waiting to be named by a sarcastic AI. How about \"Bark Twain\" if it's a literary hound, or \"Sir Wag-a-lot\" for a knightly canine? Maybe \"Bark Obama\" if it's a political pooch, or \"Bark Zuckerberg\" if it's into social networking.''')",
   "id": "c8dcb81fe7fe83b6",
   "outputs": [],
   "execution_count": 47
  },
  {
   "metadata": {
    "ExecuteTime": {
     "end_time": "2025-03-24T13:29:12.273932Z",
     "start_time": "2025-03-24T13:29:12.271458Z"
    }
   },
   "cell_type": "code",
   "source": [
    "message_AI_cat = AIMessage(content='''Oh, absolutely! I've been waiting all day for someone to ask me about cat names. Here are a few suggestions, carefully crafted with my unmatched AI wit:\n",
    "\n",
    "1. Catzilla - because why not make your cat sound like a monster from a Japanese film?\n",
    "2. Meowly Cyrus - for when your cat can't stop and won't stop.''')"
   ],
   "id": "cf3bf01707275311",
   "outputs": [],
   "execution_count": 48
  },
  {
   "metadata": {
    "ExecuteTime": {
     "end_time": "2025-03-24T13:29:16.162441Z",
     "start_time": "2025-03-24T13:29:12.281031Z"
    }
   },
   "cell_type": "code",
   "source": "response = chat.invoke([message_h_dog, message_AI_dog, message_AI_cat, message_h_cat])",
   "id": "d4d5c3ee8a04ca02",
   "outputs": [],
   "execution_count": 49
  },
  {
   "metadata": {
    "ExecuteTime": {
     "end_time": "2025-03-24T13:29:16.171553Z",
     "start_time": "2025-03-24T13:29:16.168728Z"
    }
   },
   "cell_type": "code",
   "source": "print(response.content)",
   "id": "52fdc53ef6b125c0",
   "outputs": [
    {
     "name": "stdout",
     "output_type": "stream",
     "text": [
      "Of course! Here are some suggestions:\n",
      "\n",
      "1. Whiskers\n",
      "2. Luna\n",
      "3. Bella\n",
      "4. Shadow\n",
      "5. Simba\n",
      "6. Tigger\n",
      "7. Oliver\n",
      "8. Daisy\n",
      "9. Coco\n",
      "10. Pumpkin\n",
      "11. Misty\n",
      "12. Jasper\n",
      "13. Smokey\n",
      "14. Pepper\n",
      "15. Ginger\n",
      "16. Paws\n",
      "\n"
     ]
    }
   ],
   "execution_count": 50
  },
  {
   "metadata": {
    "ExecuteTime": {
     "end_time": "2025-03-24T13:29:16.183104Z",
     "start_time": "2025-03-24T13:29:16.181103Z"
    }
   },
   "cell_type": "code",
   "source": "",
   "id": "e1c4122edc377b1e",
   "outputs": [],
   "execution_count": null
  }
 ],
 "metadata": {
  "kernelspec": {
   "display_name": "Python [conda env:langchain_env]",
   "language": "python",
   "name": "conda-env-langchain_env-py"
  },
  "language_info": {
   "codemirror_mode": {
    "name": "ipython",
    "version": 2
   },
   "file_extension": ".py",
   "mimetype": "text/x-python",
   "name": "python",
   "nbconvert_exporter": "python",
   "pygments_lexer": "ipython2",
   "version": "2.7.6"
  }
 },
 "nbformat": 4,
 "nbformat_minor": 5
}
