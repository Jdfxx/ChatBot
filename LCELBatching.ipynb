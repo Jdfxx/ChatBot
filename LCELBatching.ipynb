{
 "cells": [
  {
   "metadata": {},
   "cell_type": "markdown",
   "source": "# Batching",
   "id": "b5083405a31ecf99"
  },
  {
   "metadata": {
    "ExecuteTime": {
     "end_time": "2025-03-27T13:24:32.645738Z",
     "start_time": "2025-03-27T13:24:32.070205Z"
    }
   },
   "cell_type": "code",
   "source": "pip show langchain",
   "id": "2ef26844c10a2214",
   "outputs": [
    {
     "name": "stdout",
     "output_type": "stream",
     "text": [
      "Name: langchain\n",
      "Version: 0.3.21\n",
      "Summary: Building applications with LLMs through composability\n",
      "Home-page: \n",
      "Author: \n",
      "Author-email: \n",
      "License: MIT\n",
      "Location: C:\\Dev\\anaconda\\envs\\langchain_env\\Lib\\site-packages\n",
      "Requires: langchain-core, langchain-text-splitters, langsmith, pydantic, PyYAML, requests, SQLAlchemy\n",
      "Required-by: langchain-community\n",
      "Note: you may need to restart the kernel to use updated packages.\n"
     ]
    }
   ],
   "execution_count": 1
  },
  {
   "metadata": {
    "collapsed": true,
    "ExecuteTime": {
     "end_time": "2025-03-27T13:24:34.240036Z",
     "start_time": "2025-03-27T13:24:32.649250Z"
    }
   },
   "cell_type": "code",
   "source": [
    "from langchain_openai.chat_models import ChatOpenAI\n",
    "from langchain_core.prompts import ChatPromptTemplate"
   ],
   "id": "initial_id",
   "outputs": [],
   "execution_count": 2
  },
  {
   "metadata": {
    "ExecuteTime": {
     "end_time": "2025-03-27T13:24:34.713721Z",
     "start_time": "2025-03-27T13:24:34.356807Z"
    }
   },
   "cell_type": "code",
   "source": [
    "chat = ChatOpenAI(\n",
    "                  seed=365,\n",
    "                  temperature = 0,\n",
    "                  max_tokens = 80)"
   ],
   "id": "c3d8a5845e498aa6",
   "outputs": [],
   "execution_count": 3
  },
  {
   "metadata": {
    "ExecuteTime": {
     "end_time": "2025-03-27T13:24:34.784351Z",
     "start_time": "2025-03-27T13:24:34.781305Z"
    }
   },
   "cell_type": "code",
   "source": [
    "chat_template = ChatPromptTemplate.from_messages([\n",
    "    ('human',\n",
    "     \"I've recently adopted a {pet} which is a {breed}. Could you suggest several training tips?\")])"
   ],
   "id": "37a6c61ce85c9932",
   "outputs": [],
   "execution_count": 4
  },
  {
   "metadata": {
    "ExecuteTime": {
     "end_time": "2025-03-27T13:24:34.805371Z",
     "start_time": "2025-03-27T13:24:34.802372Z"
    }
   },
   "cell_type": "code",
   "source": "chain = chat_template | chat",
   "id": "972ad03df0caf2a",
   "outputs": [],
   "execution_count": 5
  },
  {
   "metadata": {
    "ExecuteTime": {
     "end_time": "2025-03-27T13:24:36.222674Z",
     "start_time": "2025-03-27T13:24:34.822100Z"
    }
   },
   "cell_type": "code",
   "source": "chain.invoke({'pet':'dog', 'breed':'shepherd'})",
   "id": "5a5e43e949c2ab6a",
   "outputs": [
    {
     "data": {
      "text/plain": [
       "AIMessage(content='Congratulations on your new furry friend! Here are some training tips for your shepherd:\\n\\n1. Start with basic obedience training: Teach your dog commands such as sit, stay, come, and heel. Use positive reinforcement techniques like treats and praise to reward good behavior.\\n\\n2. Socialize your dog: Expose your shepherd to different people, animals, and environments to help them become well-adjusted and confident', additional_kwargs={'refusal': None}, response_metadata={'token_usage': {'completion_tokens': 80, 'prompt_tokens': 25, 'total_tokens': 105, 'completion_tokens_details': {'accepted_prediction_tokens': 0, 'audio_tokens': 0, 'reasoning_tokens': 0, 'rejected_prediction_tokens': 0}, 'prompt_tokens_details': {'audio_tokens': 0, 'cached_tokens': 0}}, 'model_name': 'gpt-3.5-turbo-0125', 'system_fingerprint': None, 'id': 'chatcmpl-BFhVkwpU8OU2xfJiclZUqrPfgIcUv', 'finish_reason': 'length', 'logprobs': None}, id='run-cc932098-ff71-4139-9abe-62d7bfc604a0-0', usage_metadata={'input_tokens': 25, 'output_tokens': 80, 'total_tokens': 105, 'input_token_details': {'audio': 0, 'cache_read': 0}, 'output_token_details': {'audio': 0, 'reasoning': 0}})"
      ]
     },
     "execution_count": 6,
     "metadata": {},
     "output_type": "execute_result"
    }
   ],
   "execution_count": 6
  },
  {
   "metadata": {
    "ExecuteTime": {
     "end_time": "2025-03-27T13:24:37.445932Z",
     "start_time": "2025-03-27T13:24:36.297122Z"
    }
   },
   "cell_type": "code",
   "source": [
    "%%time\n",
    "chain.batch([{'pet':'dog', 'breed':'shepherd'},\n",
    "             {'pet':'dragon', 'breed':'night fury'}])"
   ],
   "id": "437143a6047edbc9",
   "outputs": [
    {
     "name": "stdout",
     "output_type": "stream",
     "text": [
      "CPU times: total: 0 ns\n",
      "Wall time: 1.14 s\n"
     ]
    },
    {
     "data": {
      "text/plain": [
       "[AIMessage(content='Congratulations on your new furry friend! Here are some training tips for your shepherd:\\n\\n1. Start with basic obedience training: Teach your dog commands such as sit, stay, come, and heel. Use positive reinforcement techniques like treats and praise to reward good behavior.\\n\\n2. Socialize your dog: Expose your shepherd to different people, animals, and environments to help them become well-adjusted and confident', additional_kwargs={'refusal': None}, response_metadata={'token_usage': {'completion_tokens': 80, 'prompt_tokens': 25, 'total_tokens': 105, 'completion_tokens_details': {'accepted_prediction_tokens': 0, 'audio_tokens': 0, 'reasoning_tokens': 0, 'rejected_prediction_tokens': 0}, 'prompt_tokens_details': {'audio_tokens': 0, 'cached_tokens': 0}}, 'model_name': 'gpt-3.5-turbo-0125', 'system_fingerprint': None, 'id': 'chatcmpl-BFhVlhs3wu8RpqG0Iw3YE1mn2clLd', 'finish_reason': 'length', 'logprobs': None}, id='run-fc3b9e1e-9764-4a53-b593-751b9743c09e-0', usage_metadata={'input_tokens': 25, 'output_tokens': 80, 'total_tokens': 105, 'input_token_details': {'audio': 0, 'cache_read': 0}, 'output_token_details': {'audio': 0, 'reasoning': 0}}),\n",
       " AIMessage(content='1. Establish a strong bond with your night fury by spending quality time with them every day. This will help build trust and mutual respect between you and your dragon.\\n\\n2. Use positive reinforcement techniques such as treats, praise, and rewards to encourage good behavior and obedience. Night furies are intelligent creatures and respond well to positive reinforcement.\\n\\n3. Be patient and consistent in your training efforts. Night f', additional_kwargs={'refusal': None}, response_metadata={'token_usage': {'completion_tokens': 80, 'prompt_tokens': 26, 'total_tokens': 106, 'completion_tokens_details': {'accepted_prediction_tokens': 0, 'audio_tokens': 0, 'reasoning_tokens': 0, 'rejected_prediction_tokens': 0}, 'prompt_tokens_details': {'audio_tokens': 0, 'cached_tokens': 0}}, 'model_name': 'gpt-3.5-turbo-0125', 'system_fingerprint': None, 'id': 'chatcmpl-BFhVlItqwDdYuaNYNQwAWVs0VRo5i', 'finish_reason': 'length', 'logprobs': None}, id='run-c35b454e-6cab-44b6-b8b8-838db16ef217-0', usage_metadata={'input_tokens': 26, 'output_tokens': 80, 'total_tokens': 106, 'input_token_details': {'audio': 0, 'cache_read': 0}, 'output_token_details': {'audio': 0, 'reasoning': 0}})]"
      ]
     },
     "execution_count": 7,
     "metadata": {},
     "output_type": "execute_result"
    }
   ],
   "execution_count": 7
  },
  {
   "metadata": {
    "ExecuteTime": {
     "end_time": "2025-03-27T13:24:39.057331Z",
     "start_time": "2025-03-27T13:24:37.567475Z"
    }
   },
   "cell_type": "code",
   "source": [
    "%%time\n",
    "chain.invoke({'pet':'dog', 'breed':'shepherd'})"
   ],
   "id": "f6f59ba3ebff8532",
   "outputs": [
    {
     "name": "stdout",
     "output_type": "stream",
     "text": [
      "CPU times: total: 0 ns\n",
      "Wall time: 1.48 s\n"
     ]
    },
    {
     "data": {
      "text/plain": [
       "AIMessage(content='Congratulations on your new furry friend! Here are some training tips for your shepherd:\\n\\n1. Start with basic obedience training: Teach your dog commands such as sit, stay, come, and heel. Use positive reinforcement techniques like treats and praise to reward good behavior.\\n\\n2. Socialize your dog: Expose your shepherd to different people, animals, and environments to help them become well-adjusted and confident', additional_kwargs={'refusal': None}, response_metadata={'token_usage': {'completion_tokens': 80, 'prompt_tokens': 25, 'total_tokens': 105, 'completion_tokens_details': {'accepted_prediction_tokens': 0, 'audio_tokens': 0, 'reasoning_tokens': 0, 'rejected_prediction_tokens': 0}, 'prompt_tokens_details': {'audio_tokens': 0, 'cached_tokens': 0}}, 'model_name': 'gpt-3.5-turbo-0125', 'system_fingerprint': None, 'id': 'chatcmpl-BFhVmvlGt5G07KYNXNsVfR4jC9IHQ', 'finish_reason': 'length', 'logprobs': None}, id='run-ca220968-3cbe-447b-8013-3d6561ca9110-0', usage_metadata={'input_tokens': 25, 'output_tokens': 80, 'total_tokens': 105, 'input_token_details': {'audio': 0, 'cache_read': 0}, 'output_token_details': {'audio': 0, 'reasoning': 0}})"
      ]
     },
     "execution_count": 8,
     "metadata": {},
     "output_type": "execute_result"
    }
   ],
   "execution_count": 8
  },
  {
   "metadata": {
    "ExecuteTime": {
     "end_time": "2025-03-27T13:24:40.240973Z",
     "start_time": "2025-03-27T13:24:39.124878Z"
    }
   },
   "cell_type": "code",
   "source": [
    "%%time\n",
    "chain.invoke({'pet':'dragon', 'breed':'night fury'})"
   ],
   "id": "4fea9e60d94533f5",
   "outputs": [
    {
     "name": "stdout",
     "output_type": "stream",
     "text": [
      "CPU times: total: 0 ns\n",
      "Wall time: 1.11 s\n"
     ]
    },
    {
     "data": {
      "text/plain": [
       "AIMessage(content='Training a night fury dragon can be a challenging but rewarding experience. Here are some tips to help you train your new dragon:\\n\\n1. Establish trust: Building a strong bond with your dragon is essential for successful training. Spend time with your dragon, talk to them, and offer them treats to build trust.\\n\\n2. Positive reinforcement: Use positive reinforcement techniques such as treats, praise, and rewards to encourage', additional_kwargs={'refusal': None}, response_metadata={'token_usage': {'completion_tokens': 80, 'prompt_tokens': 26, 'total_tokens': 106, 'completion_tokens_details': {'accepted_prediction_tokens': 0, 'audio_tokens': 0, 'reasoning_tokens': 0, 'rejected_prediction_tokens': 0}, 'prompt_tokens_details': {'audio_tokens': 0, 'cached_tokens': 0}}, 'model_name': 'gpt-3.5-turbo-0125', 'system_fingerprint': None, 'id': 'chatcmpl-BFhVoeAjLItgxzs4NAN8ztqcbRuwX', 'finish_reason': 'length', 'logprobs': None}, id='run-b71d065a-25b5-4ba9-9d94-0d237ea34edc-0', usage_metadata={'input_tokens': 26, 'output_tokens': 80, 'total_tokens': 106, 'input_token_details': {'audio': 0, 'cache_read': 0}, 'output_token_details': {'audio': 0, 'reasoning': 0}})"
      ]
     },
     "execution_count": 9,
     "metadata": {},
     "output_type": "execute_result"
    }
   ],
   "execution_count": 9
  }
 ],
 "metadata": {
  "kernelspec": {
   "display_name": "Python [conda env:langchain_env]",
   "language": "python",
   "name": "conda-env-langchain_env-py"
  },
  "language_info": {
   "codemirror_mode": {
    "name": "ipython",
    "version": 2
   },
   "file_extension": ".py",
   "mimetype": "text/x-python",
   "name": "python",
   "nbconvert_exporter": "python",
   "pygments_lexer": "ipython2",
   "version": "2.7.6"
  }
 },
 "nbformat": 4,
 "nbformat_minor": 5
}
