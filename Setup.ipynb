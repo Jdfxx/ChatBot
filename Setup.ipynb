{
 "cells": [
  {
   "metadata": {
    "ExecuteTime": {
     "end_time": "2025-03-23T14:32:20.308365Z",
     "start_time": "2025-03-23T14:32:20.305500Z"
    }
   },
   "cell_type": "code",
   "source": "import os\n",
   "id": "fbc121e30a2defb3",
   "outputs": [],
   "execution_count": 9
  },
  {
   "metadata": {
    "ExecuteTime": {
     "end_time": "2025-03-23T14:32:20.318150Z",
     "start_time": "2025-03-23T14:32:20.314879Z"
    }
   },
   "cell_type": "code",
   "source": [
    "for key, value in os.environ.items():\n",
    "    if key == \"OPENAI_API_KEY\":\n",
    "        print(\"variable set\")\n"
   ],
   "id": "e9087358351fe3c8",
   "outputs": [
    {
     "name": "stdout",
     "output_type": "stream",
     "text": [
      "variable set\n"
     ]
    }
   ],
   "execution_count": 10
  }
 ],
 "metadata": {
  "kernelspec": {
   "display_name": "langchain_env",
   "language": "python",
   "name": "langchain_env"
  },
  "language_info": {
   "codemirror_mode": {
    "name": "ipython",
    "version": 2
   },
   "file_extension": ".py",
   "mimetype": "text/x-python",
   "name": "python",
   "nbconvert_exporter": "python",
   "pygments_lexer": "ipython2",
   "version": "2.7.6"
  }
 },
 "nbformat": 4,
 "nbformat_minor": 5
}
