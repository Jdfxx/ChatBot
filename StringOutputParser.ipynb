{
 "cells": [
  {
   "metadata": {
    "ExecuteTime": {
     "end_time": "2025-03-27T11:26:22.713100Z",
     "start_time": "2025-03-27T11:26:22.107402Z"
    }
   },
   "cell_type": "code",
   "source": "pip show langchain",
   "id": "2ef26844c10a2214",
   "outputs": [
    {
     "name": "stdout",
     "output_type": "stream",
     "text": [
      "Name: langchain\n",
      "Version: 0.3.21\n",
      "Summary: Building applications with LLMs through composability\n",
      "Home-page: \n",
      "Author: \n",
      "Author-email: \n",
      "License: MIT\n",
      "Location: C:\\Dev\\anaconda\\envs\\langchain_env\\Lib\\site-packages\n",
      "Requires: langchain-core, langchain-text-splitters, langsmith, pydantic, PyYAML, requests, SQLAlchemy\n",
      "Required-by: langchain-community\n",
      "Note: you may need to restart the kernel to use updated packages.\n"
     ]
    }
   ],
   "execution_count": 3
  },
  {
   "metadata": {
    "collapsed": true,
    "ExecuteTime": {
     "end_time": "2025-03-27T11:26:22.782640Z",
     "start_time": "2025-03-27T11:26:22.777629Z"
    }
   },
   "cell_type": "code",
   "source": [
    "from langchain_openai.chat_models import ChatOpenAI\n",
    "from langchain_core.messages import HumanMessage\n",
    "from langchain_core.output_parsers import StrOutputParser"
   ],
   "id": "initial_id",
   "outputs": [],
   "execution_count": 4
  },
  {
   "metadata": {
    "ExecuteTime": {
     "end_time": "2025-03-27T11:26:23.170904Z",
     "start_time": "2025-03-27T11:26:22.804743Z"
    }
   },
   "cell_type": "code",
   "source": [
    "chat = ChatOpenAI(\n",
    "                  seed=365,\n",
    "                  temperature = 0,\n",
    "                  max_tokens = 80)"
   ],
   "id": "c3d8a5845e498aa6",
   "outputs": [],
   "execution_count": 5
  },
  {
   "metadata": {
    "ExecuteTime": {
     "end_time": "2025-03-27T11:26:23.177733Z",
     "start_time": "2025-03-27T11:26:23.174912Z"
    }
   },
   "cell_type": "code",
   "source": "message_h = HumanMessage(content = \"Can you give me an interesting fact I probably didn't know about?\")",
   "id": "37a6c61ce85c9932",
   "outputs": [],
   "execution_count": 6
  },
  {
   "metadata": {
    "ExecuteTime": {
     "end_time": "2025-03-27T11:26:24.333729Z",
     "start_time": "2025-03-27T11:26:23.183947Z"
    }
   },
   "cell_type": "code",
   "source": [
    "response = chat.invoke([message_h])\n",
    "response"
   ],
   "id": "77feeea681bb2bba",
   "outputs": [
    {
     "data": {
      "text/plain": [
       "AIMessage(content=\"Sure! Here's an interesting fact: The shortest war in history lasted only 38 minutes. It was between Britain and Zanzibar on August 27, 1896. Britain declared war on Zanzibar after the sultan refused to step down, and their forces quickly overwhelmed the Zanzibari defenders, leading to a swift victory for the British.\", additional_kwargs={'refusal': None}, response_metadata={'token_usage': {'completion_tokens': 76, 'prompt_tokens': 21, 'total_tokens': 97, 'completion_tokens_details': {'accepted_prediction_tokens': 0, 'audio_tokens': 0, 'reasoning_tokens': 0, 'rejected_prediction_tokens': 0}, 'prompt_tokens_details': {'audio_tokens': 0, 'cached_tokens': 0}}, 'model_name': 'gpt-3.5-turbo-0125', 'system_fingerprint': None, 'id': 'chatcmpl-BFffMCvgkRNH1nwMzSULe9w0m1t5Y', 'finish_reason': 'stop', 'logprobs': None}, id='run-1f0ebea6-c5d6-4689-976f-5a55c13b6225-0', usage_metadata={'input_tokens': 21, 'output_tokens': 76, 'total_tokens': 97, 'input_token_details': {'audio': 0, 'cache_read': 0}, 'output_token_details': {'audio': 0, 'reasoning': 0}})"
      ]
     },
     "execution_count": 7,
     "metadata": {},
     "output_type": "execute_result"
    }
   ],
   "execution_count": 7
  },
  {
   "metadata": {
    "ExecuteTime": {
     "end_time": "2025-03-27T11:26:24.421181Z",
     "start_time": "2025-03-27T11:26:24.418181Z"
    }
   },
   "cell_type": "code",
   "source": "str_output_parser = StrOutputParser()",
   "id": "972ad03df0caf2a",
   "outputs": [],
   "execution_count": 8
  },
  {
   "metadata": {
    "ExecuteTime": {
     "end_time": "2025-03-27T11:26:24.455259Z",
     "start_time": "2025-03-27T11:26:24.450257Z"
    }
   },
   "cell_type": "code",
   "source": [
    "response_parsed = str_output_parser.invoke(response)\n",
    "response_parsed"
   ],
   "id": "5a5e43e949c2ab6a",
   "outputs": [
    {
     "data": {
      "text/plain": [
       "\"Sure! Here's an interesting fact: The shortest war in history lasted only 38 minutes. It was between Britain and Zanzibar on August 27, 1896. Britain declared war on Zanzibar after the sultan refused to step down, and their forces quickly overwhelmed the Zanzibari defenders, leading to a swift victory for the British.\""
      ]
     },
     "execution_count": 9,
     "metadata": {},
     "output_type": "execute_result"
    }
   ],
   "execution_count": 9
  }
 ],
 "metadata": {
  "kernelspec": {
   "display_name": "Python [conda env:langchain_env]",
   "language": "python",
   "name": "conda-env-langchain_env-py"
  },
  "language_info": {
   "codemirror_mode": {
    "name": "ipython",
    "version": 2
   },
   "file_extension": ".py",
   "mimetype": "text/x-python",
   "name": "python",
   "nbconvert_exporter": "python",
   "pygments_lexer": "ipython2",
   "version": "2.7.6"
  }
 },
 "nbformat": 4,
 "nbformat_minor": 5
}
