{
 "cells": [
  {
   "metadata": {},
   "cell_type": "markdown",
   "source": "Prompt templates",
   "id": "d3d858165aefe87"
  },
  {
   "metadata": {
    "ExecuteTime": {
     "end_time": "2025-03-26T10:50:22.537534Z",
     "start_time": "2025-03-26T10:50:20.980286Z"
    }
   },
   "cell_type": "code",
   "source": "from langchain_core.prompts import PromptTemplate",
   "id": "6d6e4aa652e3fd9d",
   "outputs": [],
   "execution_count": 1
  },
  {
   "metadata": {
    "collapsed": true,
    "ExecuteTime": {
     "end_time": "2025-03-26T10:50:22.549695Z",
     "start_time": "2025-03-26T10:50:22.547062Z"
    }
   },
   "cell_type": "code",
   "source": [
    "TEMPLATE = '''\n",
    "System:\n",
    "{description}\n",
    "\n",
    "Human:\n",
    "\"I've recently adopted a {pet}\n",
    "Could you suggest some {pet} names?\n",
    "\n",
    "'''"
   ],
   "id": "initial_id",
   "outputs": [],
   "execution_count": 2
  },
  {
   "metadata": {
    "ExecuteTime": {
     "end_time": "2025-03-26T10:50:22.558708Z",
     "start_time": "2025-03-26T10:50:22.554707Z"
    }
   },
   "cell_type": "code",
   "source": "prompt_template = PromptTemplate.from_template(template = TEMPLATE)",
   "id": "61c4a9d0f3b53104",
   "outputs": [],
   "execution_count": 3
  },
  {
   "metadata": {
    "ExecuteTime": {
     "end_time": "2025-03-26T10:50:22.575702Z",
     "start_time": "2025-03-26T10:50:22.568735Z"
    }
   },
   "cell_type": "code",
   "source": "prompt_template",
   "id": "5e14e40151efab69",
   "outputs": [
    {
     "data": {
      "text/plain": [
       "PromptTemplate(input_variables=['description', 'pet'], input_types={}, partial_variables={}, template='\\nSystem:\\n{description}\\n\\nHuman:\\n\"I\\'ve recently adopted a {pet}\\nCould you suggest some {pet} names?\\n\\n')"
      ]
     },
     "execution_count": 4,
     "metadata": {},
     "output_type": "execute_result"
    }
   ],
   "execution_count": 4
  },
  {
   "metadata": {
    "ExecuteTime": {
     "end_time": "2025-03-26T10:50:23.119271Z",
     "start_time": "2025-03-26T10:50:23.106724Z"
    }
   },
   "cell_type": "code",
   "source": "prompt_value = prompt_template.invoke({'description': 'Chatbot should reluctantly and sarcastically answer questions', 'pet': 'parrot'})",
   "id": "f0fd0b6dfc041875",
   "outputs": [],
   "execution_count": 5
  },
  {
   "metadata": {
    "ExecuteTime": {
     "end_time": "2025-03-26T10:50:23.166390Z",
     "start_time": "2025-03-26T10:50:23.163479Z"
    }
   },
   "cell_type": "code",
   "source": "print(prompt_value.text)",
   "id": "9c3cb50fdb1e9663",
   "outputs": [
    {
     "name": "stdout",
     "output_type": "stream",
     "text": [
      "\n",
      "System:\n",
      "Chatbot should reluctantly and sarcastically answer questions\n",
      "\n",
      "Human:\n",
      "\"I've recently adopted a parrot\n",
      "Could you suggest some parrot names?\n",
      "\n",
      "\n"
     ]
    }
   ],
   "execution_count": 6
  }
 ],
 "metadata": {
  "kernelspec": {
   "display_name": "langchain_env",
   "language": "python",
   "name": "langchain_env"
  },
  "language_info": {
   "codemirror_mode": {
    "name": "ipython",
    "version": 2
   },
   "file_extension": ".py",
   "mimetype": "text/x-python",
   "name": "python",
   "nbconvert_exporter": "python",
   "pygments_lexer": "ipython2",
   "version": "2.7.6"
  }
 },
 "nbformat": 4,
 "nbformat_minor": 5
}
