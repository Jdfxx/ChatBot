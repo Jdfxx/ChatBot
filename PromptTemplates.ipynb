{
 "cells": [
  {
   "metadata": {},
   "cell_type": "markdown",
   "source": "Prompt templates",
   "id": "d3d858165aefe87"
  },
  {
   "metadata": {
    "ExecuteTime": {
     "end_time": "2025-03-25T10:12:41.593060Z",
     "start_time": "2025-03-25T10:12:40.767995Z"
    }
   },
   "cell_type": "code",
   "source": "from langchain_core.prompts import PromptTemplate",
   "id": "6d6e4aa652e3fd9d",
   "outputs": [],
   "execution_count": 3
  },
  {
   "metadata": {
    "collapsed": true,
    "ExecuteTime": {
     "end_time": "2025-03-25T10:05:22.289680Z",
     "start_time": "2025-03-25T10:05:22.285681Z"
    }
   },
   "cell_type": "code",
   "outputs": [],
   "execution_count": 2,
   "source": [
    "TEMPLATE = '''\n",
    "System:\n",
    "{description}\n",
    "\n",
    "Human:\n",
    "\"I've recently adopted a {pet}\n",
    "Could you suggest some {pet} names?\n",
    "\n",
    "'''"
   ],
   "id": "initial_id"
  },
  {
   "metadata": {
    "ExecuteTime": {
     "end_time": "2025-03-25T10:16:01.760417Z",
     "start_time": "2025-03-25T10:16:01.757526Z"
    }
   },
   "cell_type": "code",
   "source": "prompt_template = PromptTemplate.from_template(template = TEMPLATE)",
   "id": "61c4a9d0f3b53104",
   "outputs": [],
   "execution_count": 7
  },
  {
   "metadata": {
    "ExecuteTime": {
     "end_time": "2025-03-25T10:16:02.660968Z",
     "start_time": "2025-03-25T10:16:02.655960Z"
    }
   },
   "cell_type": "code",
   "source": "prompt_template",
   "id": "5e14e40151efab69",
   "outputs": [
    {
     "data": {
      "text/plain": [
       "PromptTemplate(input_variables=['description', 'pet'], input_types={}, partial_variables={}, template='\\nSystem:\\n{description}\\n\\nHuman:\\n\"I\\'ve recently adopted a {pet}\\nCould you suggest some {pet} names?\\n\\n')"
      ]
     },
     "execution_count": 8,
     "metadata": {},
     "output_type": "execute_result"
    }
   ],
   "execution_count": 8
  },
  {
   "metadata": {
    "ExecuteTime": {
     "end_time": "2025-03-25T10:17:02.137713Z",
     "start_time": "2025-03-25T10:17:02.134377Z"
    }
   },
   "cell_type": "code",
   "source": "prompt_value = prompt_template.invoke({'description': 'Chatbot should reluctantly and sarcastically answer questions', 'pet': 'parrot'})",
   "id": "f0fd0b6dfc041875",
   "outputs": [],
   "execution_count": 12
  },
  {
   "metadata": {
    "ExecuteTime": {
     "end_time": "2025-03-25T10:17:13.647471Z",
     "start_time": "2025-03-25T10:17:13.644012Z"
    }
   },
   "cell_type": "code",
   "source": "print(prompt_value.text)",
   "id": "9c3cb50fdb1e9663",
   "outputs": [
    {
     "name": "stdout",
     "output_type": "stream",
     "text": [
      "\n",
      "System:\n",
      "Chatbot should reluctantly and sarcastically answer questions\n",
      "\n",
      "Human:\n",
      "\"I've recently adopted a parrot\n",
      "Could you suggest some parrot names?\n",
      "\n",
      "\n"
     ]
    }
   ],
   "execution_count": 13
  }
 ],
 "metadata": {
  "kernelspec": {
   "display_name": "langchain_env",
   "language": "python",
   "name": "langchain_env"
  },
  "language_info": {
   "codemirror_mode": {
    "name": "ipython",
    "version": 2
   },
   "file_extension": ".py",
   "mimetype": "text/x-python",
   "name": "python",
   "nbconvert_exporter": "python",
   "pygments_lexer": "ipython2",
   "version": "2.7.6"
  }
 },
 "nbformat": 4,
 "nbformat_minor": 5
}
