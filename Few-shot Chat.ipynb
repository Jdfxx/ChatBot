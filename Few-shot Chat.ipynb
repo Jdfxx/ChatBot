{
 "cells": [
  {
   "cell_type": "code",
   "id": "initial_id",
   "metadata": {
    "collapsed": true,
    "ExecuteTime": {
     "end_time": "2025-03-25T10:41:17.373133Z",
     "start_time": "2025-03-25T10:41:15.625442Z"
    }
   },
   "source": [
    "from langchain_openai.chat_models import ChatOpenAI\n",
    "from langchain_core.prompts import (AIMessagePromptTemplate, HumanMessagePromptTemplate, ChatPromptTemplate, FewShotChatMessagePromptTemplate)"
   ],
   "outputs": [],
   "execution_count": 1
  },
  {
   "metadata": {
    "ExecuteTime": {
     "end_time": "2025-03-25T10:41:17.764119Z",
     "start_time": "2025-03-25T10:41:17.382098Z"
    }
   },
   "cell_type": "code",
   "source": [
    "chat = ChatOpenAI(model_name = 'gpt-4',\n",
    "                  seed=365,\n",
    "                  temperature = 0,\n",
    "                  max_tokens = 80)"
   ],
   "id": "3d58e3e60421998c",
   "outputs": [],
   "execution_count": 2
  },
  {
   "metadata": {
    "ExecuteTime": {
     "end_time": "2025-03-25T12:14:53.314747Z",
     "start_time": "2025-03-25T12:14:53.311229Z"
    }
   },
   "cell_type": "code",
   "source": [
    "TEMPLATE_AI = '''{response}'''\n",
    "TEMPLATE_H = '''I've recently adopted a {pet}\n",
    "Could you suggest some {pet} names?'''\n",
    "message_template_ai =AIMessagePromptTemplate.from_template(template = TEMPLATE_AI)\n",
    "message_template_h =HumanMessagePromptTemplate.from_template(template = TEMPLATE_H)\n"
   ],
   "id": "96adfb784a4337cb",
   "outputs": [],
   "execution_count": 5
  },
  {
   "metadata": {
    "ExecuteTime": {
     "end_time": "2025-03-25T12:15:01.250669Z",
     "start_time": "2025-03-25T12:15:01.247633Z"
    }
   },
   "cell_type": "code",
   "source": "example_template = ChatPromptTemplate.from_messages([message_template_ai, message_template_h])",
   "id": "a4122612cc2dcbcc",
   "outputs": [],
   "execution_count": 7
  },
  {
   "metadata": {
    "ExecuteTime": {
     "end_time": "2025-03-25T12:16:41.839685Z",
     "start_time": "2025-03-25T12:16:41.836173Z"
    }
   },
   "cell_type": "code",
   "source": [
    "examples=[{'pet': 'dog', 'response': '''Oh, absolutely! I've been waiting all day for someone to ask me about dog names. Here are a few suggestions, carefully crafted with my unmatched AI wit:'''},\n",
    "          {'pet': 'cat', 'response': '''Oh, absolutely! I've been waiting all day for someone to ask me about cat names. Here are a few suggestions, carefully crafted with my unmatched AI wit:'''}\n",
    "          ]"
   ],
   "id": "709a9021516d9f35",
   "outputs": [],
   "execution_count": 8
  },
  {
   "metadata": {
    "ExecuteTime": {
     "end_time": "2025-03-25T12:22:33.941520Z",
     "start_time": "2025-03-25T12:22:33.937014Z"
    }
   },
   "cell_type": "code",
   "source": [
    "few_shot_prompt = FewShotChatMessagePromptTemplate(examples = examples,\n",
    "                                                   example_prompt=example_template)\n"
   ],
   "id": "d5221386d6373994",
   "outputs": [],
   "execution_count": 10
  },
  {
   "metadata": {
    "ExecuteTime": {
     "end_time": "2025-03-25T12:23:49.091034Z",
     "start_time": "2025-03-25T12:23:49.088132Z"
    }
   },
   "cell_type": "code",
   "source": "chat_template = ChatPromptTemplate.from_messages([few_shot_prompt, message_template_h])",
   "id": "fece678b994e7664",
   "outputs": [],
   "execution_count": 13
  },
  {
   "metadata": {
    "ExecuteTime": {
     "end_time": "2025-03-25T12:23:50.264692Z",
     "start_time": "2025-03-25T12:23:50.259375Z"
    }
   },
   "cell_type": "code",
   "source": "chat_value = chat_template.invoke({'pet': 'tiger'})",
   "id": "12a6a38840e68f59",
   "outputs": [],
   "execution_count": 14
  },
  {
   "metadata": {
    "ExecuteTime": {
     "end_time": "2025-03-25T12:24:22.679214Z",
     "start_time": "2025-03-25T12:24:22.676061Z"
    }
   },
   "cell_type": "code",
   "source": [
    "for i in chat_value.messages:\n",
    "    print(i.content)"
   ],
   "id": "2d21e395f9234f01",
   "outputs": [
    {
     "name": "stdout",
     "output_type": "stream",
     "text": [
      "Oh, absolutely! I've been waiting all day for someone to ask me about cat names. Here are a few suggestions, carefully crafted with my unmatched AI wit:\n",
      "I've recently adopted a dog\n",
      "Could you suggest some dog names?\n",
      "I've recently adopted a tiger\n",
      "Could you suggest some tiger names?\n"
     ]
    }
   ],
   "execution_count": 16
  },
  {
   "metadata": {
    "ExecuteTime": {
     "end_time": "2025-03-25T12:25:42.998042Z",
     "start_time": "2025-03-25T12:25:38.993036Z"
    }
   },
   "cell_type": "code",
   "source": [
    "response = chat.invoke(chat_value)\n",
    "response"
   ],
   "id": "525b67fc6f2cfb56",
   "outputs": [
    {
     "data": {
      "text/plain": [
       "AIMessage(content='Of course! Here are some tiger names for you:\\n\\n1. Rajah\\n2. Tora\\n3. Shere Khan\\n4. Blaze\\n5. Zara\\n6. Simba\\n7. Stripes\\n8. Saber\\n9. Raja\\n10. Khan\\n11. Leo\\n12. Tigress\\n13. Apollo\\n14. Orion\\n15. Thunder', additional_kwargs={'refusal': None}, response_metadata={'token_usage': {'completion_tokens': 80, 'prompt_tokens': 76, 'total_tokens': 156, 'completion_tokens_details': {'accepted_prediction_tokens': 0, 'audio_tokens': 0, 'reasoning_tokens': 0, 'rejected_prediction_tokens': 0}, 'prompt_tokens_details': {'audio_tokens': 0, 'cached_tokens': 0}}, 'model_name': 'gpt-4-0613', 'system_fingerprint': None, 'id': 'chatcmpl-BExdcZzdv2nhdXdrjZpYX2k0zoRBj', 'finish_reason': 'length', 'logprobs': None}, id='run-c52430c1-8454-4e49-bdf2-2d20b4fd42a4-0', usage_metadata={'input_tokens': 76, 'output_tokens': 80, 'total_tokens': 156, 'input_token_details': {'audio': 0, 'cache_read': 0}, 'output_token_details': {'audio': 0, 'reasoning': 0}})"
      ]
     },
     "execution_count": 18,
     "metadata": {},
     "output_type": "execute_result"
    }
   ],
   "execution_count": 18
  }
 ],
 "metadata": {
  "kernelspec": {
   "display_name": "langchain_env",
   "language": "python",
   "name": "langchain_env"
  },
  "language_info": {
   "codemirror_mode": {
    "name": "ipython",
    "version": 2
   },
   "file_extension": ".py",
   "mimetype": "text/x-python",
   "name": "python",
   "nbconvert_exporter": "python",
   "pygments_lexer": "ipython2",
   "version": "2.7.6"
  }
 },
 "nbformat": 4,
 "nbformat_minor": 5
}
