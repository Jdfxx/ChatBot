{
 "cells": [
  {
   "metadata": {},
   "cell_type": "markdown",
   "source": "# Streaming",
   "id": "b5083405a31ecf99"
  },
  {
   "metadata": {
    "ExecuteTime": {
     "end_time": "2025-03-27T13:29:42.915709Z",
     "start_time": "2025-03-27T13:29:42.341287Z"
    }
   },
   "cell_type": "code",
   "source": "pip show langchain",
   "id": "2ef26844c10a2214",
   "outputs": [
    {
     "name": "stdout",
     "output_type": "stream",
     "text": [
      "Name: langchain\n",
      "Version: 0.3.21\n",
      "Summary: Building applications with LLMs through composability\n",
      "Home-page: \n",
      "Author: \n",
      "Author-email: \n",
      "License: MIT\n",
      "Location: C:\\Dev\\anaconda\\envs\\langchain_env\\Lib\\site-packages\n",
      "Requires: langchain-core, langchain-text-splitters, langsmith, pydantic, PyYAML, requests, SQLAlchemy\n",
      "Required-by: langchain-community\n",
      "Note: you may need to restart the kernel to use updated packages.\n"
     ]
    }
   ],
   "execution_count": 1
  },
  {
   "metadata": {
    "collapsed": true,
    "ExecuteTime": {
     "end_time": "2025-03-27T13:29:44.409481Z",
     "start_time": "2025-03-27T13:29:42.921112Z"
    }
   },
   "cell_type": "code",
   "source": [
    "from langchain_openai.chat_models import ChatOpenAI\n",
    "from langchain_core.prompts import ChatPromptTemplate"
   ],
   "id": "initial_id",
   "outputs": [],
   "execution_count": 2
  },
  {
   "metadata": {
    "ExecuteTime": {
     "end_time": "2025-03-27T13:37:44.653916Z",
     "start_time": "2025-03-27T13:37:44.305603Z"
    }
   },
   "cell_type": "code",
   "source": [
    "chat = ChatOpenAI(\n",
    "                  seed=365,\n",
    "                  temperature = 0,\n",
    "                  max_tokens = 5)"
   ],
   "id": "c3d8a5845e498aa6",
   "outputs": [],
   "execution_count": 13
  },
  {
   "metadata": {
    "ExecuteTime": {
     "end_time": "2025-03-27T13:29:44.897231Z",
     "start_time": "2025-03-27T13:29:44.893226Z"
    }
   },
   "cell_type": "code",
   "source": [
    "chat_template = ChatPromptTemplate.from_messages([\n",
    "    ('human',\n",
    "     \"I've recently adopted a {pet} which is a {breed}. Could you suggest several training tips?\")])"
   ],
   "id": "37a6c61ce85c9932",
   "outputs": [],
   "execution_count": 4
  },
  {
   "metadata": {
    "ExecuteTime": {
     "end_time": "2025-03-27T13:37:45.575832Z",
     "start_time": "2025-03-27T13:37:45.572546Z"
    }
   },
   "cell_type": "code",
   "source": "chain = chat_template | chat",
   "id": "972ad03df0caf2a",
   "outputs": [],
   "execution_count": 14
  },
  {
   "metadata": {
    "ExecuteTime": {
     "end_time": "2025-03-27T13:29:46.235302Z",
     "start_time": "2025-03-27T13:29:44.914239Z"
    }
   },
   "cell_type": "code",
   "source": "chain.invoke({'pet':'dog', 'breed':'shepherd'})",
   "id": "5a5e43e949c2ab6a",
   "outputs": [
    {
     "data": {
      "text/plain": [
       "AIMessage(content='Congratulations on your new furry friend! Here are some training tips for your shepherd:\\n\\n1. Start with basic obedience training: Teach your dog commands such as sit, stay, come, and heel. Use positive reinforcement techniques like treats and praise to reward good behavior.\\n\\n2. Socialize your dog: Expose your shepherd to different people, animals, and environments to help them become well-adjusted and confident', additional_kwargs={'refusal': None}, response_metadata={'token_usage': {'completion_tokens': 80, 'prompt_tokens': 25, 'total_tokens': 105, 'completion_tokens_details': {'accepted_prediction_tokens': 0, 'audio_tokens': 0, 'reasoning_tokens': 0, 'rejected_prediction_tokens': 0}, 'prompt_tokens_details': {'audio_tokens': 0, 'cached_tokens': 0}}, 'model_name': 'gpt-3.5-turbo-0125', 'system_fingerprint': None, 'id': 'chatcmpl-BFhakI805lTpygoJ1kxPH1XYECneq', 'finish_reason': 'length', 'logprobs': None}, id='run-68005561-3569-499c-84c6-f1591ba814cb-0', usage_metadata={'input_tokens': 25, 'output_tokens': 80, 'total_tokens': 105, 'input_token_details': {'audio': 0, 'cache_read': 0}, 'output_token_details': {'audio': 0, 'reasoning': 0}})"
      ]
     },
     "execution_count": 6,
     "metadata": {},
     "output_type": "execute_result"
    }
   ],
   "execution_count": 6
  },
  {
   "metadata": {
    "ExecuteTime": {
     "end_time": "2025-03-27T13:29:50.834610Z",
     "start_time": "2025-03-27T13:29:46.241303Z"
    }
   },
   "cell_type": "code",
   "source": [
    "%%time\n",
    "chain.batch([{'pet':'dog', 'breed':'shepherd'},\n",
    "             {'pet':'dragon', 'breed':'night fury'}])"
   ],
   "id": "437143a6047edbc9",
   "outputs": [
    {
     "name": "stdout",
     "output_type": "stream",
     "text": [
      "CPU times: total: 15.6 ms\n",
      "Wall time: 4.59 s\n"
     ]
    },
    {
     "data": {
      "text/plain": [
       "[AIMessage(content='Congratulations on your new furry friend! Here are some training tips for your shepherd:\\n\\n1. Start with basic obedience training: Teach your dog commands such as sit, stay, come, and heel. Use positive reinforcement techniques like treats and praise to reward good behavior.\\n\\n2. Socialize your dog: Expose your shepherd to different people, animals, and environments to help them become well-adjusted and confident', additional_kwargs={'refusal': None}, response_metadata={'token_usage': {'completion_tokens': 80, 'prompt_tokens': 25, 'total_tokens': 105, 'completion_tokens_details': {'accepted_prediction_tokens': 0, 'audio_tokens': 0, 'reasoning_tokens': 0, 'rejected_prediction_tokens': 0}, 'prompt_tokens_details': {'audio_tokens': 0, 'cached_tokens': 0}}, 'model_name': 'gpt-3.5-turbo-0125', 'system_fingerprint': None, 'id': 'chatcmpl-BFhammZjQwJslCeiUC9yzCJuK70mr', 'finish_reason': 'length', 'logprobs': None}, id='run-9d03d97b-b961-423c-b843-776c80d97d49-0', usage_metadata={'input_tokens': 25, 'output_tokens': 80, 'total_tokens': 105, 'input_token_details': {'audio': 0, 'cache_read': 0}, 'output_token_details': {'audio': 0, 'reasoning': 0}}),\n",
       " AIMessage(content='Training a night fury dragon can be a challenging but rewarding experience. Here are some tips to help you train your new dragon:\\n\\n1. Establish trust: Building a strong bond with your dragon is essential for successful training. Spend time with your dragon, talk to them, and offer them treats to build trust and establish a positive relationship.\\n\\n2. Use positive reinforcement: Reward your dragon with treats, praise,', additional_kwargs={'refusal': None}, response_metadata={'token_usage': {'completion_tokens': 80, 'prompt_tokens': 26, 'total_tokens': 106, 'completion_tokens_details': {'accepted_prediction_tokens': 0, 'audio_tokens': 0, 'reasoning_tokens': 0, 'rejected_prediction_tokens': 0}, 'prompt_tokens_details': {'audio_tokens': 0, 'cached_tokens': 0}}, 'model_name': 'gpt-3.5-turbo-0125', 'system_fingerprint': None, 'id': 'chatcmpl-BFhali1htvjj9aRBgo6hXUjriMPZ9', 'finish_reason': 'length', 'logprobs': None}, id='run-83946bcc-4583-4a93-a6af-5d7e57d55351-0', usage_metadata={'input_tokens': 26, 'output_tokens': 80, 'total_tokens': 106, 'input_token_details': {'audio': 0, 'cache_read': 0}, 'output_token_details': {'audio': 0, 'reasoning': 0}})]"
      ]
     },
     "execution_count": 7,
     "metadata": {},
     "output_type": "execute_result"
    }
   ],
   "execution_count": 7
  },
  {
   "metadata": {
    "ExecuteTime": {
     "end_time": "2025-03-27T13:29:52.043271Z",
     "start_time": "2025-03-27T13:29:50.902098Z"
    }
   },
   "cell_type": "code",
   "source": [
    "%%time\n",
    "chain.invoke({'pet':'dog', 'breed':'shepherd'})"
   ],
   "id": "f6f59ba3ebff8532",
   "outputs": [
    {
     "name": "stdout",
     "output_type": "stream",
     "text": [
      "CPU times: total: 0 ns\n",
      "Wall time: 1.14 s\n"
     ]
    },
    {
     "data": {
      "text/plain": [
       "AIMessage(content='Congratulations on your new furry friend! Here are some training tips for your shepherd:\\n\\n1. Start with basic obedience training: Teach your dog commands such as sit, stay, come, and heel. Use positive reinforcement techniques like treats and praise to reward good behavior.\\n\\n2. Socialize your dog: Expose your shepherd to different people, animals, and environments to help them become well-adjusted and confident', additional_kwargs={'refusal': None}, response_metadata={'token_usage': {'completion_tokens': 80, 'prompt_tokens': 25, 'total_tokens': 105, 'completion_tokens_details': {'accepted_prediction_tokens': 0, 'audio_tokens': 0, 'reasoning_tokens': 0, 'rejected_prediction_tokens': 0}, 'prompt_tokens_details': {'audio_tokens': 0, 'cached_tokens': 0}}, 'model_name': 'gpt-3.5-turbo-0125', 'system_fingerprint': None, 'id': 'chatcmpl-BFhaqHfWBJSLimmgTs99ZXB8iEDDt', 'finish_reason': 'length', 'logprobs': None}, id='run-5215b6d6-221d-4f3b-acca-36c97e248a2b-0', usage_metadata={'input_tokens': 25, 'output_tokens': 80, 'total_tokens': 105, 'input_token_details': {'audio': 0, 'cache_read': 0}, 'output_token_details': {'audio': 0, 'reasoning': 0}})"
      ]
     },
     "execution_count": 8,
     "metadata": {},
     "output_type": "execute_result"
    }
   ],
   "execution_count": 8
  },
  {
   "metadata": {
    "ExecuteTime": {
     "end_time": "2025-03-27T13:37:53.353068Z",
     "start_time": "2025-03-27T13:37:52.932237Z"
    }
   },
   "cell_type": "code",
   "source": [
    "%%time\n",
    "chain.invoke({'pet':'dragon', 'breed':'night fury'})"
   ],
   "id": "4fea9e60d94533f5",
   "outputs": [
    {
     "name": "stdout",
     "output_type": "stream",
     "text": [
      "CPU times: total: 15.6 ms\n",
      "Wall time: 416 ms\n"
     ]
    },
    {
     "data": {
      "text/plain": [
       "AIMessage(content='1. Establish a strong', additional_kwargs={'refusal': None}, response_metadata={'token_usage': {'completion_tokens': 5, 'prompt_tokens': 26, 'total_tokens': 31, 'completion_tokens_details': {'accepted_prediction_tokens': 0, 'audio_tokens': 0, 'reasoning_tokens': 0, 'rejected_prediction_tokens': 0}, 'prompt_tokens_details': {'audio_tokens': 0, 'cached_tokens': 0}}, 'model_name': 'gpt-3.5-turbo-0125', 'system_fingerprint': None, 'id': 'chatcmpl-BFhicNEb4e7zuOlqnBlCyofDcq6vU', 'finish_reason': 'length', 'logprobs': None}, id='run-17aa0ca8-376e-4685-a68c-03b48b0d293c-0', usage_metadata={'input_tokens': 26, 'output_tokens': 5, 'total_tokens': 31, 'input_token_details': {'audio': 0, 'cache_read': 0}, 'output_token_details': {'audio': 0, 'reasoning': 0}})"
      ]
     },
     "execution_count": 15,
     "metadata": {},
     "output_type": "execute_result"
    }
   ],
   "execution_count": 15
  },
  {
   "metadata": {
    "ExecuteTime": {
     "end_time": "2025-03-27T13:38:00.350415Z",
     "start_time": "2025-03-27T13:38:00.347413Z"
    }
   },
   "cell_type": "code",
   "source": "response = chain.stream({'pet':'dragon', 'breed':'night fury'})",
   "id": "14defa17660d642d",
   "outputs": [],
   "execution_count": 16
  },
  {
   "metadata": {
    "ExecuteTime": {
     "end_time": "2025-03-27T13:38:02.446667Z",
     "start_time": "2025-03-27T13:38:02.111906Z"
    }
   },
   "cell_type": "code",
   "source": "next(response)",
   "id": "3b2e493143fd3ecb",
   "outputs": [
    {
     "data": {
      "text/plain": [
       "AIMessageChunk(content='', additional_kwargs={}, response_metadata={}, id='run-6a1207ed-9f1b-4c19-b5e8-c2388013250c')"
      ]
     },
     "execution_count": 17,
     "metadata": {},
     "output_type": "execute_result"
    }
   ],
   "execution_count": 17
  },
  {
   "metadata": {
    "ExecuteTime": {
     "end_time": "2025-03-27T13:38:04.879064Z",
     "start_time": "2025-03-27T13:38:04.872578Z"
    }
   },
   "cell_type": "code",
   "source": [
    "for i in response:\n",
    "    print(i.content, end = '')"
   ],
   "id": "209ae3f48da25a90",
   "outputs": [
    {
     "name": "stdout",
     "output_type": "stream",
     "text": [
      "1. Establish a strong"
     ]
    }
   ],
   "execution_count": 18
  }
 ],
 "metadata": {
  "kernelspec": {
   "display_name": "Python [conda env:langchain_env]",
   "language": "python",
   "name": "conda-env-langchain_env-py"
  },
  "language_info": {
   "codemirror_mode": {
    "name": "ipython",
    "version": 2
   },
   "file_extension": ".py",
   "mimetype": "text/x-python",
   "name": "python",
   "nbconvert_exporter": "python",
   "pygments_lexer": "ipython2",
   "version": "2.7.6"
  }
 },
 "nbformat": 4,
 "nbformat_minor": 5
}
