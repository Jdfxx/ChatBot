{
 "cells": [
  {
   "metadata": {},
   "cell_type": "markdown",
   "source": "# Piping a Prompt, Model, and an Output Parser",
   "id": "b5083405a31ecf99"
  },
  {
   "metadata": {
    "ExecuteTime": {
     "end_time": "2025-03-27T12:44:28.801917Z",
     "start_time": "2025-03-27T12:44:28.152398Z"
    }
   },
   "cell_type": "code",
   "source": "pip show langchain",
   "id": "2ef26844c10a2214",
   "outputs": [
    {
     "name": "stdout",
     "output_type": "stream",
     "text": [
      "Name: langchain\n",
      "Version: 0.3.21\n",
      "Summary: Building applications with LLMs through composability\n",
      "Home-page: \n",
      "Author: \n",
      "Author-email: \n",
      "License: MIT\n",
      "Location: C:\\Dev\\anaconda\\envs\\langchain_env\\Lib\\site-packages\n",
      "Requires: langchain-core, langchain-text-splitters, langsmith, pydantic, PyYAML, requests, SQLAlchemy\n",
      "Required-by: langchain-community\n",
      "Note: you may need to restart the kernel to use updated packages.\n"
     ]
    }
   ],
   "execution_count": 11
  },
  {
   "metadata": {
    "collapsed": true,
    "ExecuteTime": {
     "end_time": "2025-03-27T12:44:28.880898Z",
     "start_time": "2025-03-27T12:44:28.875881Z"
    }
   },
   "cell_type": "code",
   "source": [
    "from langchain_openai.chat_models import ChatOpenAI\n",
    "from langchain_core.prompts import ChatPromptTemplate\n",
    "from langchain_core.output_parsers import CommaSeparatedListOutputParser"
   ],
   "id": "initial_id",
   "outputs": [],
   "execution_count": 12
  },
  {
   "metadata": {
    "ExecuteTime": {
     "end_time": "2025-03-27T12:44:29.237302Z",
     "start_time": "2025-03-27T12:44:28.902340Z"
    }
   },
   "cell_type": "code",
   "source": [
    "chat = ChatOpenAI(\n",
    "                  seed=365,\n",
    "                  temperature = 0,\n",
    "                  max_tokens = 80)"
   ],
   "id": "c3d8a5845e498aa6",
   "outputs": [],
   "execution_count": 13
  },
  {
   "metadata": {
    "ExecuteTime": {
     "end_time": "2025-03-27T12:44:29.249334Z",
     "start_time": "2025-03-27T12:44:29.245325Z"
    }
   },
   "cell_type": "code",
   "source": [
    "list_instructions = CommaSeparatedListOutputParser().get_format_instructions()\n",
    "list_instructions"
   ],
   "id": "37a6c61ce85c9932",
   "outputs": [
    {
     "data": {
      "text/plain": [
       "'Your response should be a list of comma separated values, eg: `foo, bar, baz` or `foo,bar,baz`'"
      ]
     },
     "execution_count": 14,
     "metadata": {},
     "output_type": "execute_result"
    }
   ],
   "execution_count": 14
  },
  {
   "metadata": {
    "ExecuteTime": {
     "end_time": "2025-03-27T12:44:29.331915Z",
     "start_time": "2025-03-27T12:44:29.327606Z"
    }
   },
   "cell_type": "code",
   "source": [
    "chat_template = ChatPromptTemplate.from_messages([\n",
    "    ('human',\n",
    "     \"I've recently adopted a {pet}. Could you suggest three {pet} names? \\n\" + list_instructions)])"
   ],
   "id": "972ad03df0caf2a",
   "outputs": [],
   "execution_count": 15
  },
  {
   "metadata": {
    "ExecuteTime": {
     "end_time": "2025-03-27T12:44:29.352812Z",
     "start_time": "2025-03-27T12:44:29.349631Z"
    }
   },
   "cell_type": "code",
   "source": "print(chat_template.messages[0].prompt.template)",
   "id": "5a5e43e949c2ab6a",
   "outputs": [
    {
     "name": "stdout",
     "output_type": "stream",
     "text": [
      "I've recently adopted a {pet}. Could you suggest three {pet} names? \n",
      "Your response should be a list of comma separated values, eg: `foo, bar, baz` or `foo,bar,baz`\n"
     ]
    }
   ],
   "execution_count": 16
  },
  {
   "metadata": {
    "ExecuteTime": {
     "end_time": "2025-03-27T12:44:29.378120Z",
     "start_time": "2025-03-27T12:44:29.375111Z"
    }
   },
   "cell_type": "code",
   "source": "list_output_parser = CommaSeparatedListOutputParser()",
   "id": "437143a6047edbc9",
   "outputs": [],
   "execution_count": 17
  },
  {
   "metadata": {
    "ExecuteTime": {
     "end_time": "2025-03-27T13:06:58.068866Z",
     "start_time": "2025-03-27T13:06:58.062992Z"
    }
   },
   "cell_type": "code",
   "source": [
    "chat_template_result = chat_template.invoke({'pet':'dog'})\n",
    "chat_template_result"
   ],
   "id": "f6f59ba3ebff8532",
   "outputs": [
    {
     "data": {
      "text/plain": [
       "ChatPromptValue(messages=[HumanMessage(content=\"I've recently adopted a dog. Could you suggest three dog names? \\nYour response should be a list of comma separated values, eg: `foo, bar, baz` or `foo,bar,baz`\", additional_kwargs={}, response_metadata={})])"
      ]
     },
     "execution_count": 23,
     "metadata": {},
     "output_type": "execute_result"
    }
   ],
   "execution_count": 23
  },
  {
   "metadata": {
    "ExecuteTime": {
     "end_time": "2025-03-27T12:44:30.366102Z",
     "start_time": "2025-03-27T12:44:29.422136Z"
    }
   },
   "cell_type": "code",
   "source": "chat_result = chat.invoke(chat_template_result)",
   "id": "4fea9e60d94533f5",
   "outputs": [],
   "execution_count": 19
  },
  {
   "metadata": {
    "ExecuteTime": {
     "end_time": "2025-03-27T12:44:30.376106Z",
     "start_time": "2025-03-27T12:44:30.372538Z"
    }
   },
   "cell_type": "code",
   "source": "list_output_parser.invoke(chat_result)",
   "id": "9fdc1e212f96b111",
   "outputs": [
    {
     "data": {
      "text/plain": [
       "['Buddy', 'Luna', 'Max']"
      ]
     },
     "execution_count": 20,
     "metadata": {},
     "output_type": "execute_result"
    }
   ],
   "execution_count": 20
  },
  {
   "metadata": {
    "ExecuteTime": {
     "end_time": "2025-03-27T12:44:30.399891Z",
     "start_time": "2025-03-27T12:44:30.396472Z"
    }
   },
   "cell_type": "code",
   "source": "chain = chat_template | chat | list_output_parser",
   "id": "642172ab5b16dac7",
   "outputs": [],
   "execution_count": 21
  },
  {
   "metadata": {
    "ExecuteTime": {
     "end_time": "2025-03-27T12:44:30.806996Z",
     "start_time": "2025-03-27T12:44:30.413786Z"
    }
   },
   "cell_type": "code",
   "source": "chain.invoke({'pet':'dog'})",
   "id": "7630612c4dce59e",
   "outputs": [
    {
     "data": {
      "text/plain": [
       "['Buddy', 'Luna', 'Max']"
      ]
     },
     "execution_count": 22,
     "metadata": {},
     "output_type": "execute_result"
    }
   ],
   "execution_count": 22
  }
 ],
 "metadata": {
  "kernelspec": {
   "display_name": "Python [conda env:langchain_env]",
   "language": "python",
   "name": "conda-env-langchain_env-py"
  },
  "language_info": {
   "codemirror_mode": {
    "name": "ipython",
    "version": 2
   },
   "file_extension": ".py",
   "mimetype": "text/x-python",
   "name": "python",
   "nbconvert_exporter": "python",
   "pygments_lexer": "ipython2",
   "version": "2.7.6"
  }
 },
 "nbformat": 4,
 "nbformat_minor": 5
}
