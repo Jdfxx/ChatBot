{
 "cells": [
  {
   "metadata": {},
   "cell_type": "markdown",
   "source": "# Piping a Prompt, Model, and an Output Parser",
   "id": "b5083405a31ecf99"
  },
  {
   "metadata": {
    "ExecuteTime": {
     "end_time": "2025-03-28T11:18:17.361608Z",
     "start_time": "2025-03-28T11:18:15.613660Z"
    }
   },
   "cell_type": "code",
   "source": "pip show langchain",
   "id": "2ef26844c10a2214",
   "outputs": [
    {
     "name": "stdout",
     "output_type": "stream",
     "text": [
      "Name: langchain\n",
      "Version: 0.3.21\n",
      "Summary: Building applications with LLMs through composability\n",
      "Home-page: \n",
      "Author: \n",
      "Author-email: \n",
      "License: MIT\n",
      "Location: C:\\Dev\\anaconda\\envs\\langchain_env\\Lib\\site-packages\n",
      "Requires: langchain-core, langchain-text-splitters, langsmith, pydantic, PyYAML, requests, SQLAlchemy\n",
      "Required-by: langchain-community\n",
      "Note: you may need to restart the kernel to use updated packages.\n"
     ]
    }
   ],
   "execution_count": 1
  },
  {
   "metadata": {
    "collapsed": true,
    "ExecuteTime": {
     "end_time": "2025-03-28T11:18:19.525486Z",
     "start_time": "2025-03-28T11:18:17.373619Z"
    }
   },
   "cell_type": "code",
   "source": [
    "from langchain_openai.chat_models import ChatOpenAI\n",
    "from langchain_core.prompts import ChatPromptTemplate\n",
    "from langchain_core.output_parsers import CommaSeparatedListOutputParser"
   ],
   "id": "initial_id",
   "outputs": [],
   "execution_count": 2
  },
  {
   "metadata": {
    "ExecuteTime": {
     "end_time": "2025-03-28T11:18:20.258477Z",
     "start_time": "2025-03-28T11:18:19.868306Z"
    }
   },
   "cell_type": "code",
   "source": [
    "chat = ChatOpenAI(\n",
    "                  seed=365,\n",
    "                  temperature = 0,\n",
    "                  max_tokens = 80)"
   ],
   "id": "c3d8a5845e498aa6",
   "outputs": [],
   "execution_count": 3
  },
  {
   "metadata": {
    "ExecuteTime": {
     "end_time": "2025-03-28T11:18:20.278108Z",
     "start_time": "2025-03-28T11:18:20.271101Z"
    }
   },
   "cell_type": "code",
   "source": [
    "list_instructions = CommaSeparatedListOutputParser().get_format_instructions()\n",
    "list_instructions"
   ],
   "id": "37a6c61ce85c9932",
   "outputs": [
    {
     "data": {
      "text/plain": [
       "'Your response should be a list of comma separated values, eg: `foo, bar, baz` or `foo,bar,baz`'"
      ]
     },
     "execution_count": 4,
     "metadata": {},
     "output_type": "execute_result"
    }
   ],
   "execution_count": 4
  },
  {
   "metadata": {
    "ExecuteTime": {
     "end_time": "2025-03-28T11:18:20.373505Z",
     "start_time": "2025-03-28T11:18:20.369124Z"
    }
   },
   "cell_type": "code",
   "source": [
    "chat_template = ChatPromptTemplate.from_messages([\n",
    "    ('human',\n",
    "     \"I've recently adopted a {pet}. Could you suggest three {pet} names? \\n\" + list_instructions)])"
   ],
   "id": "972ad03df0caf2a",
   "outputs": [],
   "execution_count": 5
  },
  {
   "metadata": {
    "ExecuteTime": {
     "end_time": "2025-03-28T11:18:20.394517Z",
     "start_time": "2025-03-28T11:18:20.390444Z"
    }
   },
   "cell_type": "code",
   "source": "print(chat_template.messages[0].prompt.template)",
   "id": "5a5e43e949c2ab6a",
   "outputs": [
    {
     "name": "stdout",
     "output_type": "stream",
     "text": [
      "I've recently adopted a {pet}. Could you suggest three {pet} names? \n",
      "Your response should be a list of comma separated values, eg: `foo, bar, baz` or `foo,bar,baz`\n"
     ]
    }
   ],
   "execution_count": 6
  },
  {
   "metadata": {
    "ExecuteTime": {
     "end_time": "2025-03-28T11:18:20.481823Z",
     "start_time": "2025-03-28T11:18:20.478822Z"
    }
   },
   "cell_type": "code",
   "source": "list_output_parser = CommaSeparatedListOutputParser()",
   "id": "437143a6047edbc9",
   "outputs": [],
   "execution_count": 7
  },
  {
   "metadata": {
    "ExecuteTime": {
     "end_time": "2025-03-28T11:18:20.551640Z",
     "start_time": "2025-03-28T11:18:20.544641Z"
    }
   },
   "cell_type": "code",
   "source": [
    "chat_template_result = chat_template.invoke({'pet':'dog'})\n",
    "chat_template_result"
   ],
   "id": "f6f59ba3ebff8532",
   "outputs": [
    {
     "data": {
      "text/plain": [
       "ChatPromptValue(messages=[HumanMessage(content=\"I've recently adopted a dog. Could you suggest three dog names? \\nYour response should be a list of comma separated values, eg: `foo, bar, baz` or `foo,bar,baz`\", additional_kwargs={}, response_metadata={})])"
      ]
     },
     "execution_count": 8,
     "metadata": {},
     "output_type": "execute_result"
    }
   ],
   "execution_count": 8
  },
  {
   "metadata": {
    "ExecuteTime": {
     "end_time": "2025-03-28T11:18:21.675505Z",
     "start_time": "2025-03-28T11:18:20.619221Z"
    }
   },
   "cell_type": "code",
   "source": "chat_result = chat.invoke(chat_template_result)",
   "id": "4fea9e60d94533f5",
   "outputs": [],
   "execution_count": 9
  },
  {
   "metadata": {
    "ExecuteTime": {
     "end_time": "2025-03-28T11:18:21.688031Z",
     "start_time": "2025-03-28T11:18:21.681547Z"
    }
   },
   "cell_type": "code",
   "source": "list_output_parser.invoke(chat_result)",
   "id": "9fdc1e212f96b111",
   "outputs": [
    {
     "data": {
      "text/plain": [
       "['Buddy', 'Luna', 'Max']"
      ]
     },
     "execution_count": 10,
     "metadata": {},
     "output_type": "execute_result"
    }
   ],
   "execution_count": 10
  },
  {
   "metadata": {
    "ExecuteTime": {
     "end_time": "2025-03-28T11:18:21.775359Z",
     "start_time": "2025-03-28T11:18:21.771112Z"
    }
   },
   "cell_type": "code",
   "source": "chain = chat_template | chat | list_output_parser\n",
   "id": "642172ab5b16dac7",
   "outputs": [
    {
     "data": {
      "text/plain": [
       "langchain_core.runnables.base.RunnableSequence"
      ]
     },
     "execution_count": 11,
     "metadata": {},
     "output_type": "execute_result"
    }
   ],
   "execution_count": 11
  },
  {
   "metadata": {
    "ExecuteTime": {
     "end_time": "2025-03-28T11:18:22.371876Z",
     "start_time": "2025-03-28T11:18:21.790314Z"
    }
   },
   "cell_type": "code",
   "source": "chain.invoke({'pet':'dog'})",
   "id": "7630612c4dce59e",
   "outputs": [
    {
     "data": {
      "text/plain": [
       "['Buddy', 'Luna', 'Max']"
      ]
     },
     "execution_count": 12,
     "metadata": {},
     "output_type": "execute_result"
    }
   ],
   "execution_count": 12
  },
  {
   "metadata": {
    "ExecuteTime": {
     "end_time": "2025-03-28T11:19:27.374846Z",
     "start_time": "2025-03-28T11:19:27.369610Z"
    }
   },
   "cell_type": "code",
   "source": "type(chat_template)",
   "id": "1e627af35ebe27b3",
   "outputs": [
    {
     "data": {
      "text/plain": [
       "langchain_core.prompt_values.ChatPromptValue"
      ]
     },
     "execution_count": 15,
     "metadata": {},
     "output_type": "execute_result"
    }
   ],
   "execution_count": 15
  },
  {
   "metadata": {
    "ExecuteTime": {
     "end_time": "2025-03-28T11:19:01.491255Z",
     "start_time": "2025-03-28T11:19:01.487256Z"
    }
   },
   "cell_type": "code",
   "source": "type(chain)",
   "id": "b1aa1caf19336280",
   "outputs": [
    {
     "data": {
      "text/plain": [
       "langchain_core.runnables.base.RunnableSequence"
      ]
     },
     "execution_count": 14,
     "metadata": {},
     "output_type": "execute_result"
    }
   ],
   "execution_count": 14
  }
 ],
 "metadata": {
  "kernelspec": {
   "display_name": "Python [conda env:langchain_env]",
   "language": "python",
   "name": "conda-env-langchain_env-py"
  },
  "language_info": {
   "codemirror_mode": {
    "name": "ipython",
    "version": 2
   },
   "file_extension": ".py",
   "mimetype": "text/x-python",
   "name": "python",
   "nbconvert_exporter": "python",
   "pygments_lexer": "ipython2",
   "version": "2.7.6"
  }
 },
 "nbformat": 4,
 "nbformat_minor": 5
}
