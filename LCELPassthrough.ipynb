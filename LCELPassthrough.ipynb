{
 "cells": [
  {
   "metadata": {},
   "cell_type": "markdown",
   "source": "# Piping Chains and the RunnablePassthrough Class",
   "id": "ca55ed03826a9c58"
  },
  {
   "metadata": {
    "ExecuteTime": {
     "end_time": "2025-03-28T12:12:59.791970Z",
     "start_time": "2025-03-28T12:12:59.788346Z"
    }
   },
   "cell_type": "code",
   "source": [
    "\n",
    "from langchain_core.prompts import ChatPromptTemplate\n",
    "from langchain_openai import ChatOpenAI\n",
    "from langchain_core.output_parsers import StrOutputParser\n",
    "from langchain_core.runnables import RunnablePassthrough\n"
   ],
   "id": "816fe3d9c6565c9b",
   "outputs": [],
   "execution_count": 14
  },
  {
   "metadata": {
    "ExecuteTime": {
     "end_time": "2025-03-28T12:12:59.804760Z",
     "start_time": "2025-03-28T12:12:59.799902Z"
    }
   },
   "cell_type": "code",
   "source": "RunnablePassthrough().invoke([1, 2, 3])",
   "id": "31a2e79e264aacd5",
   "outputs": [
    {
     "data": {
      "text/plain": [
       "[1, 2, 3]"
      ]
     },
     "execution_count": 15,
     "metadata": {},
     "output_type": "execute_result"
    }
   ],
   "execution_count": 15
  },
  {
   "metadata": {
    "ExecuteTime": {
     "end_time": "2025-03-28T12:12:59.832957Z",
     "start_time": "2025-03-28T12:12:59.827447Z"
    }
   },
   "cell_type": "code",
   "source": [
    "chat_template_tools = ChatPromptTemplate.from_template('''\n",
    "What are the five most important tools a {job title} needs?\n",
    "Answer only by listing the tools.\n",
    "''')\n",
    "chat_template_tools"
   ],
   "id": "d61b85f2903d49b9",
   "outputs": [
    {
     "data": {
      "text/plain": [
       "ChatPromptTemplate(input_variables=['job title'], input_types={}, partial_variables={}, messages=[HumanMessagePromptTemplate(prompt=PromptTemplate(input_variables=['job title'], input_types={}, partial_variables={}, template='\\nWhat are the five most important tools a {job title} needs?\\nAnswer only by listing the tools.\\n'), additional_kwargs={})])"
      ]
     },
     "execution_count": 16,
     "metadata": {},
     "output_type": "execute_result"
    }
   ],
   "execution_count": 16
  },
  {
   "metadata": {
    "ExecuteTime": {
     "end_time": "2025-03-28T12:12:59.858530Z",
     "start_time": "2025-03-28T12:12:59.854133Z"
    }
   },
   "cell_type": "code",
   "source": [
    "chat_template_strategy = ChatPromptTemplate.from_template('''\n",
    "Considering the tools provided, develop a strategy for effectively learning and mastering them:\n",
    "{tools}\n",
    "''')"
   ],
   "id": "22998aba201a64e4",
   "outputs": [],
   "execution_count": 17
  },
  {
   "metadata": {
    "ExecuteTime": {
     "end_time": "2025-03-28T12:13:00.209234Z",
     "start_time": "2025-03-28T12:12:59.867690Z"
    }
   },
   "cell_type": "code",
   "source": [
    "chat = ChatOpenAI(model_name = 'gpt-4',\n",
    "                  seed=365,\n",
    "                  temperature = 0,\n",
    "                  max_tokens = 100)"
   ],
   "id": "a2ec6102f1216801",
   "outputs": [],
   "execution_count": 18
  },
  {
   "metadata": {
    "ExecuteTime": {
     "end_time": "2025-03-28T12:13:00.238257Z",
     "start_time": "2025-03-28T12:13:00.234585Z"
    }
   },
   "cell_type": "code",
   "source": "string_parser = StrOutputParser()",
   "id": "55d43fc1351fe1d4",
   "outputs": [],
   "execution_count": 19
  },
  {
   "metadata": {
    "ExecuteTime": {
     "end_time": "2025-03-28T12:13:00.254313Z",
     "start_time": "2025-03-28T12:13:00.248312Z"
    }
   },
   "cell_type": "code",
   "source": [
    "chain_tools = (chat_template_tools | chat | string_parser | {'tools':RunnablePassthrough()})\n",
    "chain_strategy = chat_template_strategy | chat | string_parser"
   ],
   "id": "e4cf576f1b108e39",
   "outputs": [],
   "execution_count": 20
  },
  {
   "metadata": {
    "ExecuteTime": {
     "end_time": "2025-03-28T12:13:06.223693Z",
     "start_time": "2025-03-28T12:13:00.267085Z"
    }
   },
   "cell_type": "code",
   "source": [
    "print(chain_tools.invoke({'job title':'data scientist'}))\n",
    "print(chain_strategy.invoke({'tools':'''\n",
    "1. Python\n",
    "2. R Programming\n",
    "3. SQL\n",
    "4. Tableau\n",
    "5. Hadoop\n",
    "'''}))"
   ],
   "id": "efd21f220463ec5c",
   "outputs": [
    {
     "name": "stdout",
     "output_type": "stream",
     "text": [
      "{'tools': '1. Python\\n2. R Programming\\n3. SQL\\n4. Tableau\\n5. Hadoop'}\n",
      "1. Python: Start with the basics of Python, such as variables, data types, operators, and control flow. Once you have a good understanding of these, move on to more complex topics like functions, classes, and error handling. Use online resources like Codecademy, Coursera, or edX for structured learning. Practice coding regularly on platforms like HackerRank or LeetCode. Work on small projects to apply what you've learned.\n",
      "\n",
      "2. R Programming: Begin with the basics of\n"
     ]
    }
   ],
   "execution_count": 21
  },
  {
   "metadata": {
    "ExecuteTime": {
     "end_time": "2025-03-28T12:13:06.233824Z",
     "start_time": "2025-03-28T12:13:06.231228Z"
    }
   },
   "cell_type": "code",
   "source": "chain_combined = chain_tools | chain_strategy",
   "id": "a9c3bd41055a64c",
   "outputs": [],
   "execution_count": 22
  },
  {
   "metadata": {
    "ExecuteTime": {
     "end_time": "2025-03-28T12:13:12.391736Z",
     "start_time": "2025-03-28T12:13:06.249405Z"
    }
   },
   "cell_type": "code",
   "source": "print(chain_combined.invoke({'job title':'data scientist'}))",
   "id": "ae0a648e12a15617",
   "outputs": [
    {
     "name": "stdout",
     "output_type": "stream",
     "text": [
      "1. Python: Start with the basics of Python, such as variables, data types, operators, loops, and functions. Once you have a good understanding of these, move on to more advanced topics like classes and objects, exception handling, and file I/O operations. Use online resources like Codecademy, Coursera, or edX for structured learning. Practice coding problems on platforms like HackerRank or LeetCode. Work on small projects to apply what you've learned.\n",
      "\n",
      "2. R Programming\n"
     ]
    }
   ],
   "execution_count": 23
  },
  {
   "metadata": {
    "ExecuteTime": {
     "end_time": "2025-03-28T12:13:12.482689Z",
     "start_time": "2025-03-28T12:13:12.477366Z"
    }
   },
   "cell_type": "code",
   "source": [
    "chain_long = (chat_template_tools | chat | string_parser | {'tools':RunnablePassthrough()} |\n",
    "              chat_template_strategy | chat | string_parser)"
   ],
   "id": "424ff5e2110f42d9",
   "outputs": [],
   "execution_count": 24
  },
  {
   "metadata": {
    "ExecuteTime": {
     "end_time": "2025-03-28T12:13:18.163187Z",
     "start_time": "2025-03-28T12:13:12.522820Z"
    }
   },
   "cell_type": "code",
   "source": "print(chain_long.invoke({'job title':'data scientist'}))",
   "id": "9526ca02d12e59e9",
   "outputs": [
    {
     "name": "stdout",
     "output_type": "stream",
     "text": [
      "1. Python: Start with the basics of Python, such as variables, data types, operators, loops, and functions. Use online resources like Codecademy, Coursera, or edX for structured learning. Practice coding problems on platforms like LeetCode, HackerRank, or Codewars. Work on small projects, such as a simple calculator or a to-do list application, to apply what you've learned. Gradually move on to more complex topics like object-oriented programming, data structures\n"
     ]
    }
   ],
   "execution_count": 25
  },
  {
   "metadata": {
    "ExecuteTime": {
     "end_time": "2025-03-28T12:13:35.404098Z",
     "start_time": "2025-03-28T12:13:34.802803Z"
    }
   },
   "cell_type": "code",
   "source": "chain_long.get_graph().print_ascii()",
   "id": "8d3cbc21ec175738",
   "outputs": [
    {
     "name": "stdout",
     "output_type": "stream",
     "text": [
      "     +-------------+       \r\n",
      "     | PromptInput |       \r\n",
      "     +-------------+       \r\n",
      "            *              \r\n",
      "            *              \r\n",
      "            *              \r\n",
      "  +--------------------+   \r\n",
      "  | ChatPromptTemplate |   \r\n",
      "  +--------------------+   \r\n",
      "            *              \r\n",
      "            *              \r\n",
      "            *              \r\n",
      "      +------------+       \r\n",
      "      | ChatOpenAI |       \r\n",
      "      +------------+       \r\n",
      "            *              \r\n",
      "            *              \r\n",
      "            *              \r\n",
      "   +-----------------+     \r\n",
      "   | StrOutputParser |     \r\n",
      "   +-----------------+     \r\n",
      "            *              \r\n",
      "            *              \r\n",
      "            *              \r\n",
      "+-----------------------+  \r\n",
      "| StrOutputParserOutput |  \r\n",
      "+-----------------------+  \r\n",
      "            *              \r\n",
      "            *              \r\n",
      "            *              \r\n",
      "     +-------------+       \r\n",
      "     | Passthrough |       \r\n",
      "     +-------------+       \r\n",
      "            *              \r\n",
      "            *              \r\n",
      "            *              \r\n",
      "  +--------------------+   \r\n",
      "  | ChatPromptTemplate |   \r\n",
      "  +--------------------+   \r\n",
      "            *              \r\n",
      "            *              \r\n",
      "            *              \r\n",
      "      +------------+       \r\n",
      "      | ChatOpenAI |       \r\n",
      "      +------------+       \r\n",
      "            *              \r\n",
      "            *              \r\n",
      "            *              \r\n",
      "   +-----------------+     \r\n",
      "   | StrOutputParser |     \r\n",
      "   +-----------------+     \r\n",
      "            *              \r\n",
      "            *              \r\n",
      "            *              \r\n",
      "+-----------------------+  \r\n",
      "| StrOutputParserOutput |  \r\n",
      "+-----------------------+  \n"
     ]
    }
   ],
   "execution_count": 26
  }
 ],
 "metadata": {
  "kernelspec": {
   "display_name": "Python [conda env:langchain_env]",
   "language": "python",
   "name": "conda-env-langchain_env-py"
  },
  "language_info": {
   "codemirror_mode": {
    "name": "ipython",
    "version": 2
   },
   "file_extension": ".py",
   "mimetype": "text/x-python",
   "name": "python",
   "nbconvert_exporter": "python",
   "pygments_lexer": "ipython2",
   "version": "2.7.6"
  }
 },
 "nbformat": 4,
 "nbformat_minor": 5
}
