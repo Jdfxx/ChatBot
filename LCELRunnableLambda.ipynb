{
 "cells": [
  {
   "metadata": {},
   "cell_type": "markdown",
   "source": "# RunnableLambda",
   "id": "ca55ed03826a9c58"
  },
  {
   "metadata": {
    "ExecuteTime": {
     "end_time": "2025-03-29T16:36:11.265350Z",
     "start_time": "2025-03-29T16:36:11.262346Z"
    }
   },
   "cell_type": "code",
   "source": [
    "\n",
    "from langchain_core.runnables import RunnableLambda\n",
    "from langchain_core.runnables import chain\n"
   ],
   "id": "816fe3d9c6565c9b",
   "outputs": [],
   "execution_count": 46
  },
  {
   "metadata": {
    "ExecuteTime": {
     "end_time": "2025-03-29T16:36:11.279221Z",
     "start_time": "2025-03-29T16:36:11.275924Z"
    }
   },
   "cell_type": "code",
   "source": "find_sum = lambda x: sum(x)",
   "id": "a2ec6102f1216801",
   "outputs": [],
   "execution_count": 47
  },
  {
   "metadata": {
    "ExecuteTime": {
     "end_time": "2025-03-29T16:36:11.291775Z",
     "start_time": "2025-03-29T16:36:11.286255Z"
    }
   },
   "cell_type": "code",
   "source": "find_sum([1, 2, 5])",
   "id": "8ebda6d0df38e16a",
   "outputs": [
    {
     "data": {
      "text/plain": [
       "8"
      ]
     },
     "execution_count": 48,
     "metadata": {},
     "output_type": "execute_result"
    }
   ],
   "execution_count": 48
  },
  {
   "metadata": {
    "ExecuteTime": {
     "end_time": "2025-03-29T16:36:11.320025Z",
     "start_time": "2025-03-29T16:36:11.316519Z"
    }
   },
   "cell_type": "code",
   "source": "find_square = lambda x: x**2",
   "id": "7b66ab1975a027a",
   "outputs": [],
   "execution_count": 49
  },
  {
   "metadata": {
    "ExecuteTime": {
     "end_time": "2025-03-29T16:36:11.338156Z",
     "start_time": "2025-03-29T16:36:11.334185Z"
    }
   },
   "cell_type": "code",
   "source": "find_square(8)",
   "id": "3531dd9e9e4b8e38",
   "outputs": [
    {
     "data": {
      "text/plain": [
       "64"
      ]
     },
     "execution_count": 50,
     "metadata": {},
     "output_type": "execute_result"
    }
   ],
   "execution_count": 50
  },
  {
   "metadata": {
    "ExecuteTime": {
     "end_time": "2025-03-29T16:36:11.370425Z",
     "start_time": "2025-03-29T16:36:11.367422Z"
    }
   },
   "cell_type": "code",
   "source": "runnable_sum = RunnableLambda(lambda x: sum(x))",
   "id": "41a234a4e4186b9a",
   "outputs": [],
   "execution_count": 51
  },
  {
   "metadata": {
    "ExecuteTime": {
     "end_time": "2025-03-29T16:36:11.388965Z",
     "start_time": "2025-03-29T16:36:11.384964Z"
    }
   },
   "cell_type": "code",
   "source": "runnable_sum.invoke([1, 2, 5])",
   "id": "344217313ced7b5d",
   "outputs": [
    {
     "data": {
      "text/plain": [
       "8"
      ]
     },
     "execution_count": 52,
     "metadata": {},
     "output_type": "execute_result"
    }
   ],
   "execution_count": 52
  },
  {
   "metadata": {
    "ExecuteTime": {
     "end_time": "2025-03-29T16:36:11.415525Z",
     "start_time": "2025-03-29T16:36:11.411550Z"
    }
   },
   "cell_type": "code",
   "source": "runnable_square = RunnableLambda(lambda x: x**2)",
   "id": "f928394289150c16",
   "outputs": [],
   "execution_count": 53
  },
  {
   "metadata": {
    "ExecuteTime": {
     "end_time": "2025-03-29T16:36:11.431578Z",
     "start_time": "2025-03-29T16:36:11.427060Z"
    }
   },
   "cell_type": "code",
   "source": "runnable_square.invoke(8)",
   "id": "8604feafe9291ab8",
   "outputs": [
    {
     "data": {
      "text/plain": [
       "64"
      ]
     },
     "execution_count": 54,
     "metadata": {},
     "output_type": "execute_result"
    }
   ],
   "execution_count": 54
  },
  {
   "metadata": {
    "ExecuteTime": {
     "end_time": "2025-03-29T16:36:11.456403Z",
     "start_time": "2025-03-29T16:36:11.453524Z"
    }
   },
   "cell_type": "code",
   "source": "chain_final = runnable_sum | runnable_square",
   "id": "fb294e6b798c8018",
   "outputs": [],
   "execution_count": 55
  },
  {
   "metadata": {
    "ExecuteTime": {
     "end_time": "2025-03-29T16:36:11.473759Z",
     "start_time": "2025-03-29T16:36:11.469480Z"
    }
   },
   "cell_type": "code",
   "source": "chain_final.invoke([1, 2, 5])",
   "id": "f87d6f4e3d9293de",
   "outputs": [
    {
     "data": {
      "text/plain": [
       "64"
      ]
     },
     "execution_count": 56,
     "metadata": {},
     "output_type": "execute_result"
    }
   ],
   "execution_count": 56
  },
  {
   "metadata": {
    "ExecuteTime": {
     "end_time": "2025-03-29T16:36:11.501466Z",
     "start_time": "2025-03-29T16:36:11.497007Z"
    }
   },
   "cell_type": "code",
   "source": "chain_final.get_graph().print_ascii()",
   "id": "57f2bb09f92460ab",
   "outputs": [
    {
     "name": "stdout",
     "output_type": "stream",
     "text": [
      "+-------------+  \r\n",
      "| LambdaInput |  \r\n",
      "+-------------+  \r\n",
      "        *        \r\n",
      "        *        \r\n",
      "        *        \r\n",
      "   +--------+    \r\n",
      "   | Lambda |    \r\n",
      "   +--------+    \r\n",
      "        *        \r\n",
      "        *        \r\n",
      "        *        \r\n",
      "   +--------+    \r\n",
      "   | Lambda |    \r\n",
      "   +--------+    \r\n",
      "        *        \r\n",
      "        *        \r\n",
      "        *        \r\n",
      "+--------------+ \r\n",
      "| LambdaOutput | \r\n",
      "+--------------+ \n"
     ]
    }
   ],
   "execution_count": 57
  },
  {
   "metadata": {
    "ExecuteTime": {
     "end_time": "2025-03-29T16:36:11.539119Z",
     "start_time": "2025-03-29T16:36:11.535614Z"
    }
   },
   "cell_type": "code",
   "source": [
    "def find_sum(x):\n",
    "    return sum(x)\n",
    "\n",
    "def find_square(x):\n",
    "    return x**2"
   ],
   "id": "4b02769eac31bf37",
   "outputs": [],
   "execution_count": 58
  },
  {
   "metadata": {
    "ExecuteTime": {
     "end_time": "2025-03-29T16:36:11.565990Z",
     "start_time": "2025-03-29T16:36:11.563082Z"
    }
   },
   "cell_type": "code",
   "source": "chain1 = RunnableLambda(find_sum) | RunnableLambda(find_square)",
   "id": "cb8cd9075210541e",
   "outputs": [],
   "execution_count": 59
  },
  {
   "metadata": {
    "ExecuteTime": {
     "end_time": "2025-03-29T16:36:11.589272Z",
     "start_time": "2025-03-29T16:36:11.583271Z"
    }
   },
   "cell_type": "code",
   "source": "chain1.invoke([1, 2, 5])",
   "id": "dee0a6b119407623",
   "outputs": [
    {
     "data": {
      "text/plain": [
       "64"
      ]
     },
     "execution_count": 60,
     "metadata": {},
     "output_type": "execute_result"
    }
   ],
   "execution_count": 60
  },
  {
   "metadata": {
    "ExecuteTime": {
     "end_time": "2025-03-29T16:36:20.870036Z",
     "start_time": "2025-03-29T16:36:20.866616Z"
    }
   },
   "cell_type": "code",
   "source": [
    "@chain\n",
    "def runnable_sum(x):\n",
    "    return sum(x)\n",
    "\n",
    "@chain\n",
    "def runnable_square(x):\n",
    "    return x**2"
   ],
   "id": "d5ad9e51d9c9b0b0",
   "outputs": [],
   "execution_count": 62
  },
  {
   "metadata": {
    "ExecuteTime": {
     "end_time": "2025-03-29T16:36:22.737274Z",
     "start_time": "2025-03-29T16:36:22.731905Z"
    }
   },
   "cell_type": "code",
   "source": "type(runnable_sum), type(runnable_square)",
   "id": "77fbe55cc77d0ed1",
   "outputs": [
    {
     "data": {
      "text/plain": [
       "(langchain_core.runnables.base.RunnableLambda,\n",
       " langchain_core.runnables.base.RunnableLambda)"
      ]
     },
     "execution_count": 63,
     "metadata": {},
     "output_type": "execute_result"
    }
   ],
   "execution_count": 63
  },
  {
   "metadata": {
    "ExecuteTime": {
     "end_time": "2025-03-29T16:36:25.337852Z",
     "start_time": "2025-03-29T16:36:25.334468Z"
    }
   },
   "cell_type": "code",
   "source": "chain2 = runnable_sum | runnable_square",
   "id": "a0228914a6bf552a",
   "outputs": [],
   "execution_count": 65
  },
  {
   "metadata": {
    "ExecuteTime": {
     "end_time": "2025-03-29T16:36:26.548169Z",
     "start_time": "2025-03-29T16:36:26.540754Z"
    }
   },
   "cell_type": "code",
   "source": "chain2.invoke([1, 2, 5])",
   "id": "417e9e6b974849fe",
   "outputs": [
    {
     "data": {
      "text/plain": [
       "64"
      ]
     },
     "execution_count": 66,
     "metadata": {},
     "output_type": "execute_result"
    }
   ],
   "execution_count": 66
  }
 ],
 "metadata": {
  "kernelspec": {
   "display_name": "Python [conda env:langchain_env]",
   "language": "python",
   "name": "conda-env-langchain_env-py"
  },
  "language_info": {
   "codemirror_mode": {
    "name": "ipython",
    "version": 2
   },
   "file_extension": ".py",
   "mimetype": "text/x-python",
   "name": "python",
   "nbconvert_exporter": "python",
   "pygments_lexer": "ipython2",
   "version": "2.7.6"
  }
 },
 "nbformat": 4,
 "nbformat_minor": 5
}
