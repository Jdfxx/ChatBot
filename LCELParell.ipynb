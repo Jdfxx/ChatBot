{
 "cells": [
  {
   "metadata": {},
   "cell_type": "markdown",
   "source": "# Piping Chains and the RunnablePassthrough Class",
   "id": "ca55ed03826a9c58"
  },
  {
   "metadata": {
    "ExecuteTime": {
     "end_time": "2025-03-28T13:03:54.690602Z",
     "start_time": "2025-03-28T13:03:54.687384Z"
    }
   },
   "cell_type": "code",
   "source": [
    "\n",
    "from langchain_core.prompts import ChatPromptTemplate\n",
    "from langchain_openai import ChatOpenAI\n",
    "from langchain_core.output_parsers import StrOutputParser\n",
    "from langchain_core.runnables import RunnableParallel\n"
   ],
   "id": "816fe3d9c6565c9b",
   "outputs": [],
   "execution_count": 14
  },
  {
   "metadata": {
    "ExecuteTime": {
     "end_time": "2025-03-28T13:03:54.700794Z",
     "start_time": "2025-03-28T13:03:54.697611Z"
    }
   },
   "cell_type": "code",
   "source": [
    "chat_template_books = ChatPromptTemplate.from_template(\n",
    "    '''\n",
    "    Suggest three of the best intermediate-level {programming language} books.\n",
    "    Answer only by listing the books.\n",
    "    '''\n",
    ")\n",
    "\n",
    "chat_template_projects = ChatPromptTemplate.from_template(\n",
    "    '''\n",
    "    Suggest three interesting {programming language} projects suitable for intermediate-level programmers.\n",
    "    Answer only by listing the projects.\n",
    "    '''\n",
    ")"
   ],
   "id": "d61b85f2903d49b9",
   "outputs": [],
   "execution_count": 15
  },
  {
   "metadata": {
    "ExecuteTime": {
     "end_time": "2025-03-28T13:03:54.719647Z",
     "start_time": "2025-03-28T13:03:54.716674Z"
    }
   },
   "cell_type": "code",
   "source": [
    "chat_template_strategy = ChatPromptTemplate.from_template('''\n",
    "Considering the tools provided, develop a strategy for effectively learning and mastering them:\n",
    "{tools}\n",
    "''')"
   ],
   "id": "22998aba201a64e4",
   "outputs": [],
   "execution_count": 16
  },
  {
   "metadata": {
    "ExecuteTime": {
     "end_time": "2025-03-28T13:03:55.056066Z",
     "start_time": "2025-03-28T13:03:54.723656Z"
    }
   },
   "cell_type": "code",
   "source": [
    "chat = ChatOpenAI(seed=365,\n",
    "                  temperature = 0,\n",
    "                  max_tokens = 100)"
   ],
   "id": "a2ec6102f1216801",
   "outputs": [],
   "execution_count": 17
  },
  {
   "metadata": {
    "ExecuteTime": {
     "end_time": "2025-03-28T13:03:55.068695Z",
     "start_time": "2025-03-28T13:03:55.064250Z"
    }
   },
   "cell_type": "code",
   "source": "string_parser = StrOutputParser()",
   "id": "55d43fc1351fe1d4",
   "outputs": [],
   "execution_count": 18
  },
  {
   "metadata": {
    "ExecuteTime": {
     "end_time": "2025-03-28T13:03:55.082262Z",
     "start_time": "2025-03-28T13:03:55.079044Z"
    }
   },
   "cell_type": "code",
   "source": [
    "chain_books = chat_template_books | chat | string_parser\n",
    "\n",
    "chain_projects = chat_template_projects | chat | string_parser"
   ],
   "id": "e4cf576f1b108e39",
   "outputs": [],
   "execution_count": 19
  },
  {
   "metadata": {
    "ExecuteTime": {
     "end_time": "2025-03-28T13:03:55.095916Z",
     "start_time": "2025-03-28T13:03:55.092556Z"
    }
   },
   "cell_type": "code",
   "source": "chain_parallel = RunnableParallel({'books':chain_books, 'projects':chain_projects})",
   "id": "efd21f220463ec5c",
   "outputs": [],
   "execution_count": 20
  },
  {
   "metadata": {
    "ExecuteTime": {
     "end_time": "2025-03-28T13:03:56.494480Z",
     "start_time": "2025-03-28T13:03:55.113401Z"
    }
   },
   "cell_type": "code",
   "source": "chain_parallel.invoke({'programming language':'Python'})",
   "id": "a9c3bd41055a64c",
   "outputs": [
    {
     "data": {
      "text/plain": [
       "{'books': '1. \"Fluent Python: Clear, Concise, and Effective Programming\" by Luciano Ramalho\\n2. \"Python Cookbook\" by David Beazley and Brian K. Jones\\n3. \"Effective Python: 90 Specific Ways to Write Better Python\" by Brett Slatkin',\n",
       " 'projects': '1. Building a web scraper to extract data from websites and store it in a database.\\n2. Creating a chatbot using natural language processing techniques to interact with users.\\n3. Developing a machine learning model to predict stock prices based on historical data.'}"
      ]
     },
     "execution_count": 21,
     "metadata": {},
     "output_type": "execute_result"
    }
   ],
   "execution_count": 21
  },
  {
   "metadata": {
    "ExecuteTime": {
     "end_time": "2025-03-28T13:03:56.576735Z",
     "start_time": "2025-03-28T13:03:56.568922Z"
    }
   },
   "cell_type": "code",
   "source": "chain_parallel.get_graph().print_ascii()",
   "id": "ae0a648e12a15617",
   "outputs": [
    {
     "name": "stdout",
     "output_type": "stream",
     "text": [
      "            +-------------------------------+              \r\n",
      "            | Parallel<books,projects>Input |              \r\n",
      "            +-------------------------------+              \r\n",
      "                   ***               ***                   \r\n",
      "                ***                     ***                \r\n",
      "              **                           **              \r\n",
      "+--------------------+              +--------------------+ \r\n",
      "| ChatPromptTemplate |              | ChatPromptTemplate | \r\n",
      "+--------------------+              +--------------------+ \r\n",
      "           *                                   *           \r\n",
      "           *                                   *           \r\n",
      "           *                                   *           \r\n",
      "    +------------+                      +------------+     \r\n",
      "    | ChatOpenAI |                      | ChatOpenAI |     \r\n",
      "    +------------+                      +------------+     \r\n",
      "           *                                   *           \r\n",
      "           *                                   *           \r\n",
      "           *                                   *           \r\n",
      "  +-----------------+                 +-----------------+  \r\n",
      "  | StrOutputParser |                 | StrOutputParser |  \r\n",
      "  +-----------------+                 +-----------------+  \r\n",
      "                   ***               ***                   \r\n",
      "                      ***         ***                      \r\n",
      "                         **     **                         \r\n",
      "            +--------------------------------+             \r\n",
      "            | Parallel<books,projects>Output |             \r\n",
      "            +--------------------------------+             \n"
     ]
    }
   ],
   "execution_count": 22
  },
  {
   "metadata": {
    "ExecuteTime": {
     "end_time": "2025-03-28T13:03:57.614006Z",
     "start_time": "2025-03-28T13:03:56.662073Z"
    }
   },
   "cell_type": "code",
   "source": [
    "%%time\n",
    "chain_books.invoke({'programming language':'Python'})"
   ],
   "id": "424ff5e2110f42d9",
   "outputs": [
    {
     "name": "stdout",
     "output_type": "stream",
     "text": [
      "CPU times: total: 0 ns\n",
      "Wall time: 948 ms\n"
     ]
    },
    {
     "data": {
      "text/plain": [
       "'1. \"Fluent Python: Clear, Concise, and Effective Programming\" by Luciano Ramalho\\n2. \"Python Cookbook\" by David Beazley and Brian K. Jones\\n3. \"Effective Python: 90 Specific Ways to Write Better Python\" by Brett Slatkin'"
      ]
     },
     "execution_count": 23,
     "metadata": {},
     "output_type": "execute_result"
    }
   ],
   "execution_count": 23
  },
  {
   "metadata": {
    "ExecuteTime": {
     "end_time": "2025-03-28T13:03:58.485575Z",
     "start_time": "2025-03-28T13:03:57.686061Z"
    }
   },
   "cell_type": "code",
   "source": [
    "%%time\n",
    "chain_projects.invoke({'programming language':'Python'})"
   ],
   "id": "9526ca02d12e59e9",
   "outputs": [
    {
     "name": "stdout",
     "output_type": "stream",
     "text": [
      "CPU times: total: 0 ns\n",
      "Wall time: 796 ms\n"
     ]
    },
    {
     "data": {
      "text/plain": [
       "'1. Building a web scraper to extract data from websites and store it in a database.\\n2. Creating a chatbot using natural language processing techniques to interact with users.\\n3. Developing a machine learning model to predict stock prices based on historical data.'"
      ]
     },
     "execution_count": 24,
     "metadata": {},
     "output_type": "execute_result"
    }
   ],
   "execution_count": 24
  },
  {
   "metadata": {
    "ExecuteTime": {
     "end_time": "2025-03-28T13:03:59.390252Z",
     "start_time": "2025-03-28T13:03:58.551396Z"
    }
   },
   "cell_type": "code",
   "source": [
    "%%time\n",
    "chain_parallel.invoke({'programming language':'Python'})"
   ],
   "id": "8d3cbc21ec175738",
   "outputs": [
    {
     "name": "stdout",
     "output_type": "stream",
     "text": [
      "CPU times: total: 0 ns\n",
      "Wall time: 832 ms\n"
     ]
    },
    {
     "data": {
      "text/plain": [
       "{'books': '1. \"Fluent Python: Clear, Concise, and Effective Programming\" by Luciano Ramalho\\n2. \"Python Cookbook\" by David Beazley and Brian K. Jones\\n3. \"Effective Python: 90 Specific Ways to Write Better Python\" by Brett Slatkin',\n",
       " 'projects': '1. Building a web scraper to extract data from websites and store it in a database.\\n2. Creating a chatbot using natural language processing techniques to interact with users.\\n3. Developing a machine learning model to predict stock prices based on historical data.'}"
      ]
     },
     "execution_count": 25,
     "metadata": {},
     "output_type": "execute_result"
    }
   ],
   "execution_count": 25
  }
 ],
 "metadata": {
  "kernelspec": {
   "display_name": "Python [conda env:langchain_env]",
   "language": "python",
   "name": "conda-env-langchain_env-py"
  },
  "language_info": {
   "codemirror_mode": {
    "name": "ipython",
    "version": 2
   },
   "file_extension": ".py",
   "mimetype": "text/x-python",
   "name": "python",
   "nbconvert_exporter": "python",
   "pygments_lexer": "ipython2",
   "version": "2.7.6"
  }
 },
 "nbformat": 4,
 "nbformat_minor": 5
}
