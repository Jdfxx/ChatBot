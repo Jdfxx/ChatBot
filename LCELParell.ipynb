{
 "cells": [
  {
   "metadata": {},
   "cell_type": "markdown",
   "source": "# Piping Chains and the RunnablePassthrough Class",
   "id": "ca55ed03826a9c58"
  },
  {
   "metadata": {
    "ExecuteTime": {
     "end_time": "2025-03-29T15:49:23.690268Z",
     "start_time": "2025-03-29T15:49:23.685754Z"
    }
   },
   "cell_type": "code",
   "source": [
    "\n",
    "from langchain_core.prompts import ChatPromptTemplate\n",
    "from langchain_openai import ChatOpenAI\n",
    "from langchain_core.output_parsers import StrOutputParser\n",
    "from langchain_core.runnables import RunnableParallel\n"
   ],
   "id": "816fe3d9c6565c9b",
   "outputs": [],
   "execution_count": 13
  },
  {
   "metadata": {
    "ExecuteTime": {
     "end_time": "2025-03-29T15:49:23.704523Z",
     "start_time": "2025-03-29T15:49:23.701018Z"
    }
   },
   "cell_type": "code",
   "source": [
    "chat_template_books = ChatPromptTemplate.from_template(\n",
    "    '''\n",
    "    Suggest three of the best intermediate-level {programming language} books.\n",
    "    Answer only by listing the books.\n",
    "    '''\n",
    ")\n",
    "\n",
    "chat_template_projects = ChatPromptTemplate.from_template(\n",
    "    '''\n",
    "    Suggest three interesting {programming language} projects suitable for intermediate-level programmers.\n",
    "    Answer only by listing the projects.\n",
    "    '''\n",
    ")\n",
    "\n",
    "chat_template_time = ChatPromptTemplate.from_template(\n",
    "     '''\n",
    "     I'm an intermediate level programmer.\n",
    "\n",
    "     Consider the following literature:\n",
    "     {books}\n",
    "\n",
    "     Also, consider the following projects:\n",
    "     {projects}\n",
    "\n",
    "     Roughly how much time would it take me to complete the literature and the projects?\n",
    "\n",
    "     '''\n",
    ")"
   ],
   "id": "d61b85f2903d49b9",
   "outputs": [],
   "execution_count": 14
  },
  {
   "metadata": {
    "ExecuteTime": {
     "end_time": "2025-03-29T15:49:23.715549Z",
     "start_time": "2025-03-29T15:49:23.712032Z"
    }
   },
   "cell_type": "code",
   "source": [
    "chat_template_strategy = ChatPromptTemplate.from_template('''\n",
    "Considering the tools provided, develop a strategy for effectively learning and mastering them:\n",
    "{tools}\n",
    "''')"
   ],
   "id": "22998aba201a64e4",
   "outputs": [],
   "execution_count": 15
  },
  {
   "metadata": {
    "ExecuteTime": {
     "end_time": "2025-03-29T15:49:24.071781Z",
     "start_time": "2025-03-29T15:49:23.722275Z"
    }
   },
   "cell_type": "code",
   "source": [
    "chat = ChatOpenAI(seed=365,\n",
    "                  temperature = 0,\n",
    "                  max_tokens = 100)"
   ],
   "id": "a2ec6102f1216801",
   "outputs": [],
   "execution_count": 16
  },
  {
   "metadata": {
    "ExecuteTime": {
     "end_time": "2025-03-29T15:49:24.084283Z",
     "start_time": "2025-03-29T15:49:24.081771Z"
    }
   },
   "cell_type": "code",
   "source": "string_parser = StrOutputParser()",
   "id": "55d43fc1351fe1d4",
   "outputs": [],
   "execution_count": 17
  },
  {
   "metadata": {
    "ExecuteTime": {
     "end_time": "2025-03-29T15:49:24.094943Z",
     "start_time": "2025-03-29T15:49:24.091935Z"
    }
   },
   "cell_type": "code",
   "source": [
    "chain_books = chat_template_books | chat | string_parser\n",
    "\n",
    "chain_projects = chat_template_projects | chat | string_parser"
   ],
   "id": "e4cf576f1b108e39",
   "outputs": [],
   "execution_count": 18
  },
  {
   "metadata": {
    "ExecuteTime": {
     "end_time": "2025-03-29T15:49:24.111417Z",
     "start_time": "2025-03-29T15:49:24.107379Z"
    }
   },
   "cell_type": "code",
   "source": "chain_parallel = RunnableParallel({'books':chain_books, 'projects':chain_projects})",
   "id": "efd21f220463ec5c",
   "outputs": [],
   "execution_count": 19
  },
  {
   "metadata": {
    "ExecuteTime": {
     "end_time": "2025-03-29T15:49:25.421029Z",
     "start_time": "2025-03-29T15:49:24.119423Z"
    }
   },
   "cell_type": "code",
   "source": "chain_parallel.invoke({'programming language':'Python'})",
   "id": "a9c3bd41055a64c",
   "outputs": [
    {
     "data": {
      "text/plain": [
       "{'books': '1. \"Fluent Python: Clear, Concise, and Effective Programming\" by Luciano Ramalho\\n2. \"Python Cookbook\" by David Beazley and Brian K. Jones\\n3. \"Effective Python: 90 Specific Ways to Write Better Python\" by Brett Slatkin',\n",
       " 'projects': '1. Building a web scraper to extract data from websites and store it in a database.\\n2. Creating a chatbot using natural language processing techniques to interact with users.\\n3. Developing a machine learning model to predict stock prices based on historical data.'}"
      ]
     },
     "execution_count": 20,
     "metadata": {},
     "output_type": "execute_result"
    }
   ],
   "execution_count": 20
  },
  {
   "metadata": {
    "ExecuteTime": {
     "end_time": "2025-03-29T15:49:25.510516Z",
     "start_time": "2025-03-29T15:49:25.504814Z"
    }
   },
   "cell_type": "code",
   "source": "chain_parallel.get_graph().print_ascii()",
   "id": "ae0a648e12a15617",
   "outputs": [
    {
     "name": "stdout",
     "output_type": "stream",
     "text": [
      "            +-------------------------------+              \r\n",
      "            | Parallel<books,projects>Input |              \r\n",
      "            +-------------------------------+              \r\n",
      "                   ***               ***                   \r\n",
      "                ***                     ***                \r\n",
      "              **                           **              \r\n",
      "+--------------------+              +--------------------+ \r\n",
      "| ChatPromptTemplate |              | ChatPromptTemplate | \r\n",
      "+--------------------+              +--------------------+ \r\n",
      "           *                                   *           \r\n",
      "           *                                   *           \r\n",
      "           *                                   *           \r\n",
      "    +------------+                      +------------+     \r\n",
      "    | ChatOpenAI |                      | ChatOpenAI |     \r\n",
      "    +------------+                      +------------+     \r\n",
      "           *                                   *           \r\n",
      "           *                                   *           \r\n",
      "           *                                   *           \r\n",
      "  +-----------------+                 +-----------------+  \r\n",
      "  | StrOutputParser |                 | StrOutputParser |  \r\n",
      "  +-----------------+                 +-----------------+  \r\n",
      "                   ***               ***                   \r\n",
      "                      ***         ***                      \r\n",
      "                         **     **                         \r\n",
      "            +--------------------------------+             \r\n",
      "            | Parallel<books,projects>Output |             \r\n",
      "            +--------------------------------+             \n"
     ]
    }
   ],
   "execution_count": 21
  },
  {
   "metadata": {
    "ExecuteTime": {
     "end_time": "2025-03-29T15:49:25.596498Z",
     "start_time": "2025-03-29T15:49:25.592981Z"
    }
   },
   "cell_type": "code",
   "source": [
    "chain_time1 = (RunnableParallel({'books':chain_books,\n",
    "                                'projects':chain_projects})\n",
    "              | chat_template_time\n",
    "              | chat\n",
    "              | string_parser\n",
    "             )"
   ],
   "id": "d568c705fc663be4",
   "outputs": [],
   "execution_count": 22
  },
  {
   "metadata": {
    "ExecuteTime": {
     "end_time": "2025-03-29T15:49:25.620560Z",
     "start_time": "2025-03-29T15:49:25.616543Z"
    }
   },
   "cell_type": "code",
   "source": [
    "chain_time2 = ({'books':chain_books,\n",
    "                'projects':chain_projects}\n",
    "              | chat_template_time\n",
    "              | chat\n",
    "              | string_parser\n",
    "             )"
   ],
   "id": "6a66f763c11d83c0",
   "outputs": [],
   "execution_count": 23
  },
  {
   "metadata": {
    "ExecuteTime": {
     "end_time": "2025-03-29T15:49:27.578294Z",
     "start_time": "2025-03-29T15:49:25.630082Z"
    }
   },
   "cell_type": "code",
   "source": "print(chain_time2.invoke({'programming language':'Python'}))",
   "id": "937191d6295b2582",
   "outputs": [
    {
     "name": "stdout",
     "output_type": "stream",
     "text": [
      "Completing the literature mentioned would depend on your reading speed and comprehension level. \"Fluent Python\" is around 792 pages, \"Python Cookbook\" is around 706 pages, and \"Effective Python\" is around 256 pages. If you dedicate a few hours each day to reading, it could take you a few weeks to a couple of months to finish all three books.\n",
      "\n",
      "As for the projects, the time required would vary based on your familiarity with the technologies involved and the complexity of the tasks\n"
     ]
    }
   ],
   "execution_count": 24
  },
  {
   "metadata": {
    "ExecuteTime": {
     "end_time": "2025-03-29T15:49:27.653647Z",
     "start_time": "2025-03-29T15:49:27.647623Z"
    }
   },
   "cell_type": "code",
   "source": "chain_time2.get_graph().print_ascii()",
   "id": "4a9c59b979e66f86",
   "outputs": [
    {
     "name": "stdout",
     "output_type": "stream",
     "text": [
      "            +-------------------------------+              \r\n",
      "            | Parallel<books,projects>Input |              \r\n",
      "            +-------------------------------+              \r\n",
      "                   ***               ***                   \r\n",
      "                ***                     ***                \r\n",
      "              **                           **              \r\n",
      "+--------------------+              +--------------------+ \r\n",
      "| ChatPromptTemplate |              | ChatPromptTemplate | \r\n",
      "+--------------------+              +--------------------+ \r\n",
      "           *                                   *           \r\n",
      "           *                                   *           \r\n",
      "           *                                   *           \r\n",
      "    +------------+                      +------------+     \r\n",
      "    | ChatOpenAI |                      | ChatOpenAI |     \r\n",
      "    +------------+                      +------------+     \r\n",
      "           *                                   *           \r\n",
      "           *                                   *           \r\n",
      "           *                                   *           \r\n",
      "  +-----------------+                 +-----------------+  \r\n",
      "  | StrOutputParser |                 | StrOutputParser |  \r\n",
      "  +-----------------+                 +-----------------+  \r\n",
      "                   ***               ***                   \r\n",
      "                      ***         ***                      \r\n",
      "                         **     **                         \r\n",
      "            +--------------------------------+             \r\n",
      "            | Parallel<books,projects>Output |             \r\n",
      "            +--------------------------------+             \r\n",
      "                             *                             \r\n",
      "                             *                             \r\n",
      "                             *                             \r\n",
      "                  +--------------------+                   \r\n",
      "                  | ChatPromptTemplate |                   \r\n",
      "                  +--------------------+                   \r\n",
      "                             *                             \r\n",
      "                             *                             \r\n",
      "                             *                             \r\n",
      "                      +------------+                       \r\n",
      "                      | ChatOpenAI |                       \r\n",
      "                      +------------+                       \r\n",
      "                             *                             \r\n",
      "                             *                             \r\n",
      "                             *                             \r\n",
      "                    +-----------------+                    \r\n",
      "                    | StrOutputParser |                    \r\n",
      "                    +-----------------+                    \r\n",
      "                             *                             \r\n",
      "                             *                             \r\n",
      "                             *                             \r\n",
      "                +-----------------------+                  \r\n",
      "                | StrOutputParserOutput |                  \r\n",
      "                +-----------------------+                  \n"
     ]
    }
   ],
   "execution_count": 25
  }
 ],
 "metadata": {
  "kernelspec": {
   "display_name": "Python [conda env:langchain_env]",
   "language": "python",
   "name": "conda-env-langchain_env-py"
  },
  "language_info": {
   "codemirror_mode": {
    "name": "ipython",
    "version": 2
   },
   "file_extension": ".py",
   "mimetype": "text/x-python",
   "name": "python",
   "nbconvert_exporter": "python",
   "pygments_lexer": "ipython2",
   "version": "2.7.6"
  }
 },
 "nbformat": 4,
 "nbformat_minor": 5
}
