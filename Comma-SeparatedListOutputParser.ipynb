{
 "cells": [
  {
   "metadata": {
    "ExecuteTime": {
     "end_time": "2025-03-27T11:38:39.881387Z",
     "start_time": "2025-03-27T11:38:39.308533Z"
    }
   },
   "cell_type": "code",
   "source": "pip show langchain",
   "id": "2ef26844c10a2214",
   "outputs": [
    {
     "name": "stdout",
     "output_type": "stream",
     "text": [
      "Name: langchain\n",
      "Version: 0.3.21\n",
      "Summary: Building applications with LLMs through composability\n",
      "Home-page: \n",
      "Author: \n",
      "Author-email: \n",
      "License: MIT\n",
      "Location: C:\\Dev\\anaconda\\envs\\langchain_env\\Lib\\site-packages\n",
      "Requires: langchain-core, langchain-text-splitters, langsmith, pydantic, PyYAML, requests, SQLAlchemy\n",
      "Required-by: langchain-community\n",
      "Note: you may need to restart the kernel to use updated packages.\n"
     ]
    }
   ],
   "execution_count": 1
  },
  {
   "metadata": {
    "collapsed": true,
    "ExecuteTime": {
     "end_time": "2025-03-27T11:40:16.241050Z",
     "start_time": "2025-03-27T11:40:16.238204Z"
    }
   },
   "cell_type": "code",
   "source": [
    "from langchain_openai.chat_models import ChatOpenAI\n",
    "from langchain_core.messages import HumanMessage\n",
    "from langchain_core.output_parsers import CommaSeparatedListOutputParser"
   ],
   "id": "initial_id",
   "outputs": [],
   "execution_count": 9
  },
  {
   "metadata": {
    "ExecuteTime": {
     "end_time": "2025-03-27T11:38:42.021688Z",
     "start_time": "2025-03-27T11:38:41.649237Z"
    }
   },
   "cell_type": "code",
   "source": [
    "chat = ChatOpenAI(\n",
    "                  seed=365,\n",
    "                  temperature = 0,\n",
    "                  max_tokens = 80)"
   ],
   "id": "c3d8a5845e498aa6",
   "outputs": [],
   "execution_count": 3
  },
  {
   "metadata": {
    "ExecuteTime": {
     "end_time": "2025-03-27T11:38:42.029202Z",
     "start_time": "2025-03-27T11:38:42.025692Z"
    }
   },
   "cell_type": "code",
   "source": [
    "message_h = HumanMessage(content = f''' I've recently adopted a dog. Could you suggest some dog names?\n",
    "\n",
    "{CommaSeparatedListOutputParser().get_format_instructions()}\n",
    "''')\n",
    "\n",
    "print(message_h.content)"
   ],
   "id": "37a6c61ce85c9932",
   "outputs": [
    {
     "name": "stdout",
     "output_type": "stream",
     "text": [
      " I've recently adopted a dog. Could you suggest some dog names?\n",
      "\n",
      "Your response should be a list of comma separated values, eg: `foo, bar, baz` or `foo,bar,baz`\n",
      "\n"
     ]
    }
   ],
   "execution_count": 4
  },
  {
   "metadata": {
    "ExecuteTime": {
     "end_time": "2025-03-27T11:38:43.136129Z",
     "start_time": "2025-03-27T11:38:42.099574Z"
    }
   },
   "cell_type": "code",
   "source": [
    "response = chat.invoke([message_h])\n",
    "print(response.content)"
   ],
   "id": "77feeea681bb2bba",
   "outputs": [
    {
     "name": "stdout",
     "output_type": "stream",
     "text": [
      "Buddy, Luna, Max, Daisy, Charlie, Bella, Rocky, Lucy, Cooper, Sadie\n"
     ]
    }
   ],
   "execution_count": 5
  },
  {
   "metadata": {
    "ExecuteTime": {
     "end_time": "2025-03-27T11:38:43.223572Z",
     "start_time": "2025-03-27T11:38:43.220156Z"
    }
   },
   "cell_type": "code",
   "source": "list_output_parser = CommaSeparatedListOutputParser()",
   "id": "972ad03df0caf2a",
   "outputs": [],
   "execution_count": 6
  },
  {
   "metadata": {
    "ExecuteTime": {
     "end_time": "2025-03-27T11:38:43.244154Z",
     "start_time": "2025-03-27T11:38:43.238103Z"
    }
   },
   "cell_type": "code",
   "source": [
    "response_parsed = list_output_parser.invoke(response)\n",
    "response_parsed"
   ],
   "id": "5a5e43e949c2ab6a",
   "outputs": [
    {
     "data": {
      "text/plain": [
       "['Buddy',\n",
       " 'Luna',\n",
       " 'Max',\n",
       " 'Daisy',\n",
       " 'Charlie',\n",
       " 'Bella',\n",
       " 'Rocky',\n",
       " 'Lucy',\n",
       " 'Cooper',\n",
       " 'Sadie']"
      ]
     },
     "execution_count": 7,
     "metadata": {},
     "output_type": "execute_result"
    }
   ],
   "execution_count": 7
  },
  {
   "metadata": {
    "ExecuteTime": {
     "end_time": "2025-03-27T11:38:43.332667Z",
     "start_time": "2025-03-27T11:38:43.328668Z"
    }
   },
   "cell_type": "code",
   "source": "print(list_output_parser.get_format_instructions())",
   "id": "437143a6047edbc9",
   "outputs": [
    {
     "name": "stdout",
     "output_type": "stream",
     "text": [
      "Your response should be a list of comma separated values, eg: `foo, bar, baz` or `foo,bar,baz`\n"
     ]
    }
   ],
   "execution_count": 8
  }
 ],
 "metadata": {
  "kernelspec": {
   "display_name": "Python [conda env:langchain_env]",
   "language": "python",
   "name": "conda-env-langchain_env-py"
  },
  "language_info": {
   "codemirror_mode": {
    "name": "ipython",
    "version": 2
   },
   "file_extension": ".py",
   "mimetype": "text/x-python",
   "name": "python",
   "nbconvert_exporter": "python",
   "pygments_lexer": "ipython2",
   "version": "2.7.6"
  }
 },
 "nbformat": 4,
 "nbformat_minor": 5
}
